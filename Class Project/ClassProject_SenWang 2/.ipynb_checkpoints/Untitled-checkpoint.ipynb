{
 "cells": [
  {
   "cell_type": "code",
   "execution_count": null,
   "metadata": {},
   "outputs": [],
   "source": []
  },
  {
   "cell_type": "code",
   "execution_count": 1,
   "metadata": {},
   "outputs": [],
   "source": [
    "import numpy as np"
   ]
  },
  {
   "cell_type": "code",
   "execution_count": 4,
   "metadata": {},
   "outputs": [
    {
     "name": "stderr",
     "output_type": "stream",
     "text": [
      "/Users/senwang/miniconda3/envs/numerics/lib/python3.6/site-packages/ipykernel_launcher.py:29: DeprecationWarning: :func:`getFaceCenters` is deprecated, use the :attr:`faceCenters` property instead!\n",
      "/Users/senwang/miniconda3/envs/numerics/lib/python3.6/site-packages/ipykernel_launcher.py:30: DeprecationWarning: :func:`getFacesRight` is deprecated, use the :attr:`facesRight` property instead!\n",
      "/Users/senwang/miniconda3/envs/numerics/lib/python3.6/site-packages/ipykernel_launcher.py:31: DeprecationWarning: :func:`getFacesTop` is deprecated, use the :attr:`facesTop` property instead!\n",
      "/Users/senwang/miniconda3/envs/numerics/lib/python3.6/site-packages/ipykernel_launcher.py:32: DeprecationWarning: :func:`getFacesLeft` is deprecated, use the :attr:`facesLeft` property instead!\n",
      "/Users/senwang/miniconda3/envs/numerics/lib/python3.6/site-packages/ipykernel_launcher.py:33: DeprecationWarning: :func:`getFacesBottom` is deprecated, use the :attr:`facesBottom` property instead!\n"
     ]
    },
    {
     "name": "stdout",
     "output_type": "stream",
     "text": [
      "1\n"
     ]
    },
    {
     "data": {
      "image/png": "[encoded data removed]",
      "text/plain": [
       "<Figure size 288x288 with 2 Axes>"
      ]
     },
     "metadata": {
      "needs_background": "light"
     },
     "output_type": "display_data"
    }
   ],
   "source": [
    "from fipy import *\n",
    "nx = 40\n",
    "ny = nx\n",
    "dx = 1./nx\n",
    "dy = dx\n",
    "L = dx * nx\n",
    "mesh = Grid2D(dx=dx, dy=dy, nx=nx, ny=ny)\n",
    "\n",
    "phi = CellVariable(name = \"solution variable\",\n",
    "                   mesh = mesh,\n",
    "                   value = 0.)\n",
    "epsilon = 0.01\n",
    "b = U = CellVariable(name = \"convection velocity\",\n",
    "                 mesh = mesh, \n",
    "                 value = np.random.rand(mesh.numberOfCells,2).T,\n",
    "                 rank = 1)\n",
    "# (1) looks the same\n",
    "# (2) looks a bit worse than (1)\n",
    "# (3) different\n",
    "convection = CentralDifferenceConvectionTerm # fails\n",
    "convection = ExponentialConvectionTerm # (1)\n",
    "convection = HybridConvectionTerm # (1)\n",
    "convection = PowerLawConvectionTerm # (1)\n",
    "#convection = UpwindConvectionTerm # (2)\n",
    "#convection = ExplicitUpwindConvectionTerm # (3)\n",
    "#convection = VanLeerConvectionTerm # (3)\n",
    "eq = -convection(coeff=b)+DiffusionTerm(coeff=epsilon) == 0\n",
    "\n",
    "x, y = mesh.getFaceCenters()\n",
    "facesTopRight = ((mesh.getFacesRight() & (y > L / 2))\n",
    "                | (mesh.getFacesTop() & (x > L / 2)))\n",
    "facesBottomLeft = ((mesh.getFacesLeft() & (y < L / 2))\n",
    "                    | (mesh.getFacesBottom() & (x < L / 2)))\n",
    "BCs = (FixedValue(faces=facesTopRight, value=0),\n",
    "       FixedValue(faces=facesBottomLeft, value=1))\n",
    "eq.solve(var=phi, boundaryConditions=BCs)\n",
    "print(\"1\")\n",
    "viewer = Viewer(vars=phi, datamin=0., datamax=1.)\n",
    "#viewer.plot()\n",
    "viewer.plotMesh()\n",
    "viewer.plot(filename=\"plot1.png\")\n",
    "viewer.plot()"
   ]
  },
  {
   "cell_type": "code",
   "execution_count": 7,
   "metadata": {},
   "outputs": [
    {
     "data": {
      "text/plain": [
       "(2, 1600)"
      ]
     },
     "execution_count": 7,
     "metadata": {},
     "output_type": "execute_result"
    }
   ],
   "source": [
    "(0.05*np.random.rand(mesh.numberOfCells,2).T).shape"
   ]
  },
  {
   "cell_type": "code",
   "execution_count": 5,
   "metadata": {},
   "outputs": [
    {
     "name": "stderr",
     "output_type": "stream",
     "text": [
      "/Users/senwang/miniconda3/envs/numerics/lib/python3.6/site-packages/ipykernel_launcher.py:29: DeprecationWarning: :func:`getFaceCenters` is deprecated, use the :attr:`faceCenters` property instead!\n",
      "/Users/senwang/miniconda3/envs/numerics/lib/python3.6/site-packages/ipykernel_launcher.py:30: DeprecationWarning: :func:`getFacesRight` is deprecated, use the :attr:`facesRight` property instead!\n",
      "/Users/senwang/miniconda3/envs/numerics/lib/python3.6/site-packages/ipykernel_launcher.py:31: DeprecationWarning: :func:`getFacesTop` is deprecated, use the :attr:`facesTop` property instead!\n",
      "/Users/senwang/miniconda3/envs/numerics/lib/python3.6/site-packages/ipykernel_launcher.py:32: DeprecationWarning: :func:`getFacesLeft` is deprecated, use the :attr:`facesLeft` property instead!\n",
      "/Users/senwang/miniconda3/envs/numerics/lib/python3.6/site-packages/ipykernel_launcher.py:33: DeprecationWarning: :func:`getFacesBottom` is deprecated, use the :attr:`facesBottom` property instead!\n"
     ]
    },
    {
     "name": "stdout",
     "output_type": "stream",
     "text": [
      "1\n"
     ]
    },
    {
     "data": {
      "image/png": "[encoded data removed]",
      "text/plain": [
       "<Figure size 288x288 with 2 Axes>"
      ]
     },
     "metadata": {
      "needs_background": "light"
     },
     "output_type": "display_data"
    }
   ],
   "source": [
    "from fipy import *\n",
    "nx = 40\n",
    "ny = nx\n",
    "dx = 1./nx\n",
    "dy = dx\n",
    "L = dx * nx\n",
    "mesh = Grid2D(dx=dx, dy=dy, nx=nx, ny=ny)\n",
    "\n",
    "phi = CellVariable(name = \"solution variable\",\n",
    "                   mesh = mesh,\n",
    "                   value = 0.)\n",
    "epsilon = 0.01\n",
    "b = CellVariable(name = \"convection velocity\",\n",
    "                 mesh = mesh, \n",
    "                 value = 0.05*np.random.rand(mesh.numberOfCells,2).T,\n",
    "                 rank = 1)\n",
    "# (1) looks the same\n",
    "# (2) looks a bit worse than (1)\n",
    "# (3) different\n",
    "convection = CentralDifferenceConvectionTerm # fails\n",
    "convection = ExponentialConvectionTerm # (1)\n",
    "convection = HybridConvectionTerm # (1)\n",
    "convection = PowerLawConvectionTerm # (1)\n",
    "#convection = UpwindConvectionTerm # (2)\n",
    "#convection = ExplicitUpwindConvectionTerm # (3)\n",
    "#convection = VanLeerConvectionTerm # (3)\n",
    "eq = -convection(coeff=b)+DiffusionTerm(coeff=epsilon) == 0\n",
    "\n",
    "x, y = mesh.getFaceCenters()\n",
    "facesTopRight = ((mesh.getFacesRight())\n",
    "                | (mesh.getFacesTop() ))\n",
    "facesBottomLeft = ((mesh.getFacesLeft())\n",
    "                    | (mesh.getFacesBottom() ))\n",
    "phi.constrain(0, facesTopRight)\n",
    "phi.constrain(1, facesBottomLeft)\n",
    "\n",
    "eq.solve(var=phi, boundaryConditions=BCs)\n",
    "print(\"1\")\n",
    "viewer = Viewer(vars=phi, datamin=0., datamax=1.)\n",
    "#viewer.plot()\n",
    "viewer.plotMesh()\n",
    "viewer.plot(filename=\"plot1.png\")\n",
    "viewer.plot()"
   ]
  },
  {
   "cell_type": "code",
   "execution_count": 8,
   "metadata": {},
   "outputs": [],
   "source": [
    "m = Grid1D(nx=2, dx=1.)\n",
    "var = CellVariable(mesh=m)\n",
    "\n",
    "var.constrain(1., where=m.facesRight())"
   ]
  },
  {
   "cell_type": "code",
   "execution_count": 9,
   "metadata": {},
   "outputs": [],
   "source": [
    "mask = m.x < 1.\n",
    "largeValue = 1e+10\n",
    "value = 0.25\n",
    "eqn = DiffusionTerm() - ImplicitSourceTerm(largeValue * mask) + largeValue * mask * value"
   ]
  },
  {
   "cell_type": "code",
   "execution_count": 10,
   "metadata": {},
   "outputs": [],
   "source": [
    "eqn.solve(var)"
   ]
  },
  {
   "cell_type": "code",
   "execution_count": 15,
   "metadata": {},
   "outputs": [
    {
     "data": {
      "text/plain": [
       "array([ True, False])"
      ]
     },
     "execution_count": 15,
     "metadata": {},
     "output_type": "execute_result"
    }
   ],
   "source": [
    "mask.value"
   ]
  },
  {
   "cell_type": "code",
   "execution_count": null,
   "metadata": {},
   "outputs": [],
   "source": []
  }
 ],
 "metadata": {
  "kernelspec": {
   "display_name": "Python 3",
   "language": "python",
   "name": "python3"
  },
  "language_info": {
   "codemirror_mode": {
    "name": "ipython",
    "version": 3
   },
   "file_extension": ".py",
   "mimetype": "text/x-python",
   "name": "python",
   "nbconvert_exporter": "python",
   "pygments_lexer": "ipython3",
   "version": "3.6.7"
  }
 },
 "nbformat": 4,
 "nbformat_minor": 2
}
