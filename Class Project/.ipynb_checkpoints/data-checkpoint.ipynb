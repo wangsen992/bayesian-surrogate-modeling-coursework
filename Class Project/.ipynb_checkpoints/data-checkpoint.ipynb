{
 "cells": [
  {
   "cell_type": "code",
   "execution_count": 98,
   "metadata": {},
   "outputs": [],
   "source": [
    "import numpy as np\n",
    "import pandas as pd\n",
    "import matplotlib.pyplot as plt\n",
    "from scipy import interpolate as interp\n",
    "from itertools import product"
   ]
  },
  {
   "cell_type": "code",
   "execution_count": 2,
   "metadata": {},
   "outputs": [],
   "source": [
    "cell_data = pd.read_csv(\"data/cell_data.csv\")\n",
    "point_data = pd.read_csv(\"data/point_data.csv\")"
   ]
  },
  {
   "cell_type": "code",
   "execution_count": 4,
   "metadata": {},
   "outputs": [
    {
     "data": {
      "text/html": [
       "<div>\n",
       "<style scoped>\n",
       "    .dataframe tbody tr th:only-of-type {\n",
       "        vertical-align: middle;\n",
       "    }\n",
       "\n",
       "    .dataframe tbody tr th {\n",
       "        vertical-align: top;\n",
       "    }\n",
       "\n",
       "    .dataframe thead th {\n",
       "        text-align: right;\n",
       "    }\n",
       "</style>\n",
       "<table border=\"1\" class=\"dataframe\">\n",
       "  <thead>\n",
       "    <tr style=\"text-align: right;\">\n",
       "      <th></th>\n",
       "      <th>T</th>\n",
       "      <th>U:0</th>\n",
       "      <th>U:1</th>\n",
       "      <th>U:2</th>\n",
       "      <th>RegionId</th>\n",
       "      <th>Points:0</th>\n",
       "      <th>Points:1</th>\n",
       "      <th>Points:2</th>\n",
       "      <th>vtkOriginalIndices</th>\n",
       "      <th>__vtkIsSelected__</th>\n",
       "      <th>vtkCompositeIndexArray</th>\n",
       "    </tr>\n",
       "  </thead>\n",
       "  <tbody>\n",
       "    <tr>\n",
       "      <th>0</th>\n",
       "      <td>-3.734360e-11</td>\n",
       "      <td>-1.57310</td>\n",
       "      <td>-0.473816</td>\n",
       "      <td>0.380529</td>\n",
       "      <td>0</td>\n",
       "      <td>28.0000</td>\n",
       "      <td>75.0</td>\n",
       "      <td>0.00000</td>\n",
       "      <td>0</td>\n",
       "      <td>0</td>\n",
       "      <td>7</td>\n",
       "    </tr>\n",
       "    <tr>\n",
       "      <th>1</th>\n",
       "      <td>-3.438380e-11</td>\n",
       "      <td>-1.38675</td>\n",
       "      <td>-0.522745</td>\n",
       "      <td>0.405464</td>\n",
       "      <td>0</td>\n",
       "      <td>28.5000</td>\n",
       "      <td>75.0</td>\n",
       "      <td>0.00000</td>\n",
       "      <td>1</td>\n",
       "      <td>0</td>\n",
       "      <td>7</td>\n",
       "    </tr>\n",
       "    <tr>\n",
       "      <th>2</th>\n",
       "      <td>-4.352920e-11</td>\n",
       "      <td>-1.34991</td>\n",
       "      <td>-0.689393</td>\n",
       "      <td>0.848092</td>\n",
       "      <td>0</td>\n",
       "      <td>28.5000</td>\n",
       "      <td>75.0</td>\n",
       "      <td>1.25039</td>\n",
       "      <td>2</td>\n",
       "      <td>0</td>\n",
       "      <td>7</td>\n",
       "    </tr>\n",
       "    <tr>\n",
       "      <th>3</th>\n",
       "      <td>-4.289190e-11</td>\n",
       "      <td>-1.53809</td>\n",
       "      <td>-0.629727</td>\n",
       "      <td>0.826877</td>\n",
       "      <td>0</td>\n",
       "      <td>27.9998</td>\n",
       "      <td>75.0</td>\n",
       "      <td>1.25039</td>\n",
       "      <td>3</td>\n",
       "      <td>0</td>\n",
       "      <td>7</td>\n",
       "    </tr>\n",
       "    <tr>\n",
       "      <th>4</th>\n",
       "      <td>-3.519460e-11</td>\n",
       "      <td>-1.68487</td>\n",
       "      <td>-0.564145</td>\n",
       "      <td>0.802552</td>\n",
       "      <td>0</td>\n",
       "      <td>27.4994</td>\n",
       "      <td>75.0</td>\n",
       "      <td>1.25040</td>\n",
       "      <td>4</td>\n",
       "      <td>1</td>\n",
       "      <td>7</td>\n",
       "    </tr>\n",
       "  </tbody>\n",
       "</table>\n",
       "</div>"
      ],
      "text/plain": [
       "              T      U:0       U:1       U:2  RegionId  Points:0  Points:1  \\\n",
       "0 -3.734360e-11 -1.57310 -0.473816  0.380529         0   28.0000      75.0   \n",
       "1 -3.438380e-11 -1.38675 -0.522745  0.405464         0   28.5000      75.0   \n",
       "2 -4.352920e-11 -1.34991 -0.689393  0.848092         0   28.5000      75.0   \n",
       "3 -4.289190e-11 -1.53809 -0.629727  0.826877         0   27.9998      75.0   \n",
       "4 -3.519460e-11 -1.68487 -0.564145  0.802552         0   27.4994      75.0   \n",
       "\n",
       "   Points:2  vtkOriginalIndices  __vtkIsSelected__  vtkCompositeIndexArray  \n",
       "0   0.00000                   0                  0                       7  \n",
       "1   0.00000                   1                  0                       7  \n",
       "2   1.25039                   2                  0                       7  \n",
       "3   1.25039                   3                  0                       7  \n",
       "4   1.25040                   4                  1                       7  "
      ]
     },
     "execution_count": 4,
     "metadata": {},
     "output_type": "execute_result"
    }
   ],
   "source": [
    "point_data.head()"
   ]
  },
  {
   "cell_type": "code",
   "execution_count": 14,
   "metadata": {},
   "outputs": [],
   "source": [
    "points = point_data.iloc[:,5:8]\n",
    "U = point_data.iloc[:,1:4]\n",
    "blockId = point_data.iloc[:,-1]\n",
    "pointId = point_data.iloc[:,-3]"
   ]
  },
  {
   "cell_type": "code",
   "execution_count": 17,
   "metadata": {},
   "outputs": [],
   "source": [
    "blockName = {\"InternalMesh\": 1,\n",
    "             \"Inlet\"       : 3,\n",
    "             \"Outlet\"      : 4,\n",
    "             \"Ground\"      : 5,\n",
    "             \"frontAndBack\": 6,\n",
    "             \"boxes\"       : 7}"
   ]
  },
  {
   "cell_type": "code",
   "execution_count": 21,
   "metadata": {},
   "outputs": [],
   "source": [
    "cleanPointData = pd.concat([pointId, blockId, points, U], axis=1)\n",
    "cleanPointData.columns = ['pointId', 'blockId', 'x', 'y','z','u', 'v', 'w']"
   ]
  },
  {
   "cell_type": "code",
   "execution_count": 25,
   "metadata": {},
   "outputs": [],
   "source": [
    "cleanPointData['blockId'] = cleanPointData['blockId'].astype('category')"
   ]
  },
  {
   "cell_type": "code",
   "execution_count": 29,
   "metadata": {},
   "outputs": [],
   "source": [
    "cleanPointData['blockId'].cat.categories = [\"InternalMesh\", \"Inlet\", \"Outlet\", \"Ground\", \"frontAndBack\", \"boxes\"]"
   ]
  },
  {
   "cell_type": "code",
   "execution_count": 30,
   "metadata": {},
   "outputs": [
    {
     "data": {
      "text/html": [
       "<div>\n",
       "<style scoped>\n",
       "    .dataframe tbody tr th:only-of-type {\n",
       "        vertical-align: middle;\n",
       "    }\n",
       "\n",
       "    .dataframe tbody tr th {\n",
       "        vertical-align: top;\n",
       "    }\n",
       "\n",
       "    .dataframe thead th {\n",
       "        text-align: right;\n",
       "    }\n",
       "</style>\n",
       "<table border=\"1\" class=\"dataframe\">\n",
       "  <thead>\n",
       "    <tr style=\"text-align: right;\">\n",
       "      <th></th>\n",
       "      <th>pointId</th>\n",
       "      <th>blockId</th>\n",
       "      <th>x</th>\n",
       "      <th>y</th>\n",
       "      <th>z</th>\n",
       "      <th>u</th>\n",
       "      <th>v</th>\n",
       "      <th>w</th>\n",
       "    </tr>\n",
       "  </thead>\n",
       "  <tbody>\n",
       "    <tr>\n",
       "      <th>0</th>\n",
       "      <td>0</td>\n",
       "      <td>boxes</td>\n",
       "      <td>28.0000</td>\n",
       "      <td>75.0</td>\n",
       "      <td>0.00000</td>\n",
       "      <td>-1.57310</td>\n",
       "      <td>-0.473816</td>\n",
       "      <td>0.380529</td>\n",
       "    </tr>\n",
       "    <tr>\n",
       "      <th>1</th>\n",
       "      <td>1</td>\n",
       "      <td>boxes</td>\n",
       "      <td>28.5000</td>\n",
       "      <td>75.0</td>\n",
       "      <td>0.00000</td>\n",
       "      <td>-1.38675</td>\n",
       "      <td>-0.522745</td>\n",
       "      <td>0.405464</td>\n",
       "    </tr>\n",
       "    <tr>\n",
       "      <th>2</th>\n",
       "      <td>2</td>\n",
       "      <td>boxes</td>\n",
       "      <td>28.5000</td>\n",
       "      <td>75.0</td>\n",
       "      <td>1.25039</td>\n",
       "      <td>-1.34991</td>\n",
       "      <td>-0.689393</td>\n",
       "      <td>0.848092</td>\n",
       "    </tr>\n",
       "    <tr>\n",
       "      <th>3</th>\n",
       "      <td>3</td>\n",
       "      <td>boxes</td>\n",
       "      <td>27.9998</td>\n",
       "      <td>75.0</td>\n",
       "      <td>1.25039</td>\n",
       "      <td>-1.53809</td>\n",
       "      <td>-0.629727</td>\n",
       "      <td>0.826877</td>\n",
       "    </tr>\n",
       "    <tr>\n",
       "      <th>4</th>\n",
       "      <td>4</td>\n",
       "      <td>boxes</td>\n",
       "      <td>27.4994</td>\n",
       "      <td>75.0</td>\n",
       "      <td>1.25040</td>\n",
       "      <td>-1.68487</td>\n",
       "      <td>-0.564145</td>\n",
       "      <td>0.802552</td>\n",
       "    </tr>\n",
       "  </tbody>\n",
       "</table>\n",
       "</div>"
      ],
      "text/plain": [
       "   pointId blockId        x     y        z        u         v         w\n",
       "0        0   boxes  28.0000  75.0  0.00000 -1.57310 -0.473816  0.380529\n",
       "1        1   boxes  28.5000  75.0  0.00000 -1.38675 -0.522745  0.405464\n",
       "2        2   boxes  28.5000  75.0  1.25039 -1.34991 -0.689393  0.848092\n",
       "3        3   boxes  27.9998  75.0  1.25039 -1.53809 -0.629727  0.826877\n",
       "4        4   boxes  27.4994  75.0  1.25040 -1.68487 -0.564145  0.802552"
      ]
     },
     "execution_count": 30,
     "metadata": {},
     "output_type": "execute_result"
    }
   ],
   "source": [
    "cleanPointData.head()"
   ]
  },
  {
   "cell_type": "code",
   "execution_count": 32,
   "metadata": {},
   "outputs": [],
   "source": [
    "cleanPointData.iloc[:,0:5].to_csv(\"points.csv\")\n",
    "cleanPointData.iloc[:,[0,1,5,6,7]].to_csv(\"U.csv\")"
   ]
  },
  {
   "cell_type": "markdown",
   "metadata": {},
   "source": [
    "## Construct 2D grid points"
   ]
  },
  {
   "cell_type": "code",
   "execution_count": null,
   "metadata": {},
   "outputs": [],
   "source": [
    "cleanPointData"
   ]
  },
  {
   "cell_type": "code",
   "execution_count": 119,
   "metadata": {},
   "outputs": [],
   "source": [
    "points = cleanPointData[['x','y','z']]"
   ]
  },
  {
   "cell_type": "code",
   "execution_count": 56,
   "metadata": {},
   "outputs": [],
   "source": [
    "x = np.arange(0,101,1)\n",
    "y = np.arange(0,151,1)\n",
    "z = 1\n",
    "xx,yy,zz = np.meshgrid(x,y,z)\n",
    "\n",
    "grid = np.concatenate([xx,yy,zz], axis=2)"
   ]
  },
  {
   "cell_type": "code",
   "execution_count": 106,
   "metadata": {},
   "outputs": [],
   "source": [
    "grid = grid.astype(np.float)"
   ]
  },
  {
   "cell_type": "code",
   "execution_count": 107,
   "metadata": {},
   "outputs": [],
   "source": [
    "# Now we need to clean up grid such that it doesn't contain any point witin the boxes\n",
    "boxCtr = list(product([30,50,70],[50,70,90]))"
   ]
  },
  {
   "cell_type": "code",
   "execution_count": 108,
   "metadata": {},
   "outputs": [],
   "source": [
    "for i in range(grid.shape[0]):\n",
    "    for j in range(grid.shape[1]):\n",
    "        for box in boxCtr:\n",
    "            if abs(grid[i,j,0] - box[0]) < 5 and abs(grid[i,j,1] - box[1]) < 5:\n",
    "                grid[i,j,:] = [np.nan, np.nan, np.nan]\n",
    "            else:\n",
    "                continue"
   ]
  },
  {
   "cell_type": "code",
   "execution_count": 109,
   "metadata": {},
   "outputs": [],
   "source": [
    "flatGrid = grid.reshape(-1,3)"
   ]
  },
  {
   "cell_type": "code",
   "execution_count": 110,
   "metadata": {},
   "outputs": [
    {
     "data": {
      "text/plain": [
       "(15251, 3)"
      ]
     },
     "execution_count": 110,
     "metadata": {},
     "output_type": "execute_result"
    }
   ],
   "source": [
    "flatGrid.shape"
   ]
  },
  {
   "cell_type": "code",
   "execution_count": 111,
   "metadata": {},
   "outputs": [],
   "source": [
    "# Interpolate velocity field at this level\n",
    "ugrid = interp.griddata(points.values, U.values[:,0], flatGrid)\n",
    "vgrid = interp.griddata(points.values, U.values[:,1], flatGrid)\n",
    "wgrid = interp.griddata(points.values, U.values[:,2], flatGrid)"
   ]
  },
  {
   "cell_type": "code",
   "execution_count": 118,
   "metadata": {},
   "outputs": [
    {
     "data": {
      "image/png": "[encoded data removed]",
      "text/plain": [
       "<Figure size 720x720 with 1 Axes>"
      ]
     },
     "metadata": {
      "needs_background": "light"
     },
     "output_type": "display_data"
    }
   ],
   "source": [
    "fig, ax = plt.subplots(figsize=(10,10))\n",
    "ax.pcolor(xx[:,:,0], yy[:,:,0], ugrid.reshape(151,101))\n",
    "plt.axis(\"equal\")\n",
    "plt.show()"
   ]
  },
  {
   "cell_type": "code",
   "execution_count": 87,
   "metadata": {},
   "outputs": [
    {
     "data": {
      "text/plain": [
       "(151, 101, 1)"
      ]
     },
     "execution_count": 87,
     "metadata": {},
     "output_type": "execute_result"
    }
   ],
   "source": []
  },
  {
   "cell_type": "code",
   "execution_count": null,
   "metadata": {},
   "outputs": [],
   "source": []
  }
 ],
 "metadata": {
  "kernelspec": {
   "display_name": "Python 3",
   "language": "python",
   "name": "python3"
  },
  "language_info": {
   "codemirror_mode": {
    "name": "ipython",
    "version": 3
   },
   "file_extension": ".py",
   "mimetype": "text/x-python",
   "name": "python",
   "nbconvert_exporter": "python",
   "pygments_lexer": "ipython3",
   "version": "3.6.8"
  }
 },
 "nbformat": 4,
 "nbformat_minor": 2
}
