{
 "cells": [
  {
   "cell_type": "code",
   "execution_count": 1,
   "metadata": {},
   "outputs": [],
   "source": [
    "import numpy as np\n",
    "import pandas as pd\n",
    "import matplotlib.pyplot as plt\n",
    "from scipy import interpolate as interp\n",
    "from itertools import product"
   ]
  },
  {
   "cell_type": "code",
   "execution_count": 5,
   "metadata": {},
   "outputs": [
    {
     "data": {
      "text/plain": [
       "'/Users/senwang/Documents/Knowledge/courses/Notre Dame/Machine Learning - An Introduction/Class Project'"
      ]
     },
     "execution_count": 5,
     "metadata": {},
     "output_type": "execute_result"
    }
   ],
   "source": [
    "import os\n",
    "os.getcwd()"
   ]
  },
  {
   "cell_type": "code",
   "execution_count": 15,
   "metadata": {},
   "outputs": [],
   "source": [
    "cell_data = pd.read_csv(\"data/U2/raw/cell_data.csv\")\n",
    "point_data = pd.read_csv(\"data/U2/raw/point_data.csv\")"
   ]
  },
  {
   "cell_type": "code",
   "execution_count": 30,
   "metadata": {},
   "outputs": [
    {
     "data": {
      "text/plain": [
       "(82357, 13)"
      ]
     },
     "execution_count": 30,
     "metadata": {},
     "output_type": "execute_result"
    }
   ],
   "source": [
    "point_data.shape"
   ]
  },
  {
   "cell_type": "code",
   "execution_count": 17,
   "metadata": {},
   "outputs": [],
   "source": [
    "points = point_data.iloc[:,7:10]\n",
    "U = point_data.iloc[:,0:3]\n",
    "blockId = point_data.iloc[:,-1]\n",
    "pointId = point_data.iloc[:,-3]"
   ]
  },
  {
   "cell_type": "code",
   "execution_count": 18,
   "metadata": {},
   "outputs": [],
   "source": [
    "blockName = {\"InternalMesh\": 1,\n",
    "             \"Inlet\"       : 3,\n",
    "             \"Outlet\"      : 4,\n",
    "             \"Ground\"      : 5,\n",
    "             \"frontAndBack\": 6,\n",
    "             \"boxes\"       : 7}"
   ]
  },
  {
   "cell_type": "code",
   "execution_count": 19,
   "metadata": {},
   "outputs": [],
   "source": [
    "cleanPointData = pd.concat([pointId, blockId, points, U], axis=1)\n",
    "cleanPointData.columns = ['pointId', 'blockId', 'x', 'y','z','u', 'v', 'w']"
   ]
  },
  {
   "cell_type": "code",
   "execution_count": 20,
   "metadata": {},
   "outputs": [],
   "source": [
    "cleanPointData['blockId'] = cleanPointData['blockId'].astype('category')"
   ]
  },
  {
   "cell_type": "code",
   "execution_count": 21,
   "metadata": {},
   "outputs": [],
   "source": [
    "cleanPointData['blockId'].cat.categories = [\"InternalMesh\", \"Inlet\", \"Outlet\", \"Ground\", \"frontAndBack\", \"boxes\"]"
   ]
  },
  {
   "cell_type": "code",
   "execution_count": 22,
   "metadata": {},
   "outputs": [
    {
     "data": {
      "text/html": [
       "<div>\n",
       "<style scoped>\n",
       "    .dataframe tbody tr th:only-of-type {\n",
       "        vertical-align: middle;\n",
       "    }\n",
       "\n",
       "    .dataframe tbody tr th {\n",
       "        vertical-align: top;\n",
       "    }\n",
       "\n",
       "    .dataframe thead th {\n",
       "        text-align: right;\n",
       "    }\n",
       "</style>\n",
       "<table border=\"1\" class=\"dataframe\">\n",
       "  <thead>\n",
       "    <tr style=\"text-align: right;\">\n",
       "      <th></th>\n",
       "      <th>pointId</th>\n",
       "      <th>blockId</th>\n",
       "      <th>x</th>\n",
       "      <th>y</th>\n",
       "      <th>z</th>\n",
       "      <th>u</th>\n",
       "      <th>v</th>\n",
       "      <th>w</th>\n",
       "    </tr>\n",
       "  </thead>\n",
       "  <tbody>\n",
       "    <tr>\n",
       "      <th>0</th>\n",
       "      <td>0</td>\n",
       "      <td>InternalMesh</td>\n",
       "      <td>0.00000</td>\n",
       "      <td>0.0</td>\n",
       "      <td>0.0</td>\n",
       "      <td>-0.000581</td>\n",
       "      <td>1.99848</td>\n",
       "      <td>0.002026</td>\n",
       "    </tr>\n",
       "    <tr>\n",
       "      <th>1</th>\n",
       "      <td>1</td>\n",
       "      <td>InternalMesh</td>\n",
       "      <td>3.99740</td>\n",
       "      <td>-0.0</td>\n",
       "      <td>0.0</td>\n",
       "      <td>-0.001143</td>\n",
       "      <td>1.99843</td>\n",
       "      <td>0.002060</td>\n",
       "    </tr>\n",
       "    <tr>\n",
       "      <th>2</th>\n",
       "      <td>2</td>\n",
       "      <td>InternalMesh</td>\n",
       "      <td>7.99511</td>\n",
       "      <td>-0.0</td>\n",
       "      <td>0.0</td>\n",
       "      <td>-0.002210</td>\n",
       "      <td>1.99830</td>\n",
       "      <td>0.002171</td>\n",
       "    </tr>\n",
       "    <tr>\n",
       "      <th>3</th>\n",
       "      <td>3</td>\n",
       "      <td>InternalMesh</td>\n",
       "      <td>11.99330</td>\n",
       "      <td>-0.0</td>\n",
       "      <td>0.0</td>\n",
       "      <td>-0.003123</td>\n",
       "      <td>1.99811</td>\n",
       "      <td>0.002360</td>\n",
       "    </tr>\n",
       "    <tr>\n",
       "      <th>4</th>\n",
       "      <td>4</td>\n",
       "      <td>InternalMesh</td>\n",
       "      <td>15.99230</td>\n",
       "      <td>-0.0</td>\n",
       "      <td>0.0</td>\n",
       "      <td>-0.003790</td>\n",
       "      <td>1.99784</td>\n",
       "      <td>0.002611</td>\n",
       "    </tr>\n",
       "  </tbody>\n",
       "</table>\n",
       "</div>"
      ],
      "text/plain": [
       "   pointId       blockId         x    y    z         u        v         w\n",
       "0        0  InternalMesh   0.00000  0.0  0.0 -0.000581  1.99848  0.002026\n",
       "1        1  InternalMesh   3.99740 -0.0  0.0 -0.001143  1.99843  0.002060\n",
       "2        2  InternalMesh   7.99511 -0.0  0.0 -0.002210  1.99830  0.002171\n",
       "3        3  InternalMesh  11.99330 -0.0  0.0 -0.003123  1.99811  0.002360\n",
       "4        4  InternalMesh  15.99230 -0.0  0.0 -0.003790  1.99784  0.002611"
      ]
     },
     "execution_count": 22,
     "metadata": {},
     "output_type": "execute_result"
    }
   ],
   "source": [
    "cleanPointData.head()"
   ]
  },
  {
   "cell_type": "code",
   "execution_count": 25,
   "metadata": {},
   "outputs": [],
   "source": [
    "cleanPointData.iloc[:,0:5].to_csv(\"data/U2/points.csv\")\n",
    "cleanPointData.iloc[:,[0,1,5,6,7]].to_csv(\"data/U2/U.csv\")"
   ]
  },
  {
   "cell_type": "code",
   "execution_count": 26,
   "metadata": {},
   "outputs": [],
   "source": [
    "T_data = pd.read_csv(\"data/U2/raw/T_data.csv\")"
   ]
  },
  {
   "cell_type": "code",
   "execution_count": 31,
   "metadata": {},
   "outputs": [
    {
     "data": {
      "text/html": [
       "<div>\n",
       "<style scoped>\n",
       "    .dataframe tbody tr th:only-of-type {\n",
       "        vertical-align: middle;\n",
       "    }\n",
       "\n",
       "    .dataframe tbody tr th {\n",
       "        vertical-align: top;\n",
       "    }\n",
       "\n",
       "    .dataframe thead th {\n",
       "        text-align: right;\n",
       "    }\n",
       "</style>\n",
       "<table border=\"1\" class=\"dataframe\">\n",
       "  <thead>\n",
       "    <tr style=\"text-align: right;\">\n",
       "      <th></th>\n",
       "      <th>T</th>\n",
       "      <th>U:0</th>\n",
       "      <th>U:1</th>\n",
       "      <th>U:2</th>\n",
       "      <th>Result</th>\n",
       "      <th>Points:0</th>\n",
       "      <th>Points:1</th>\n",
       "      <th>Points:2</th>\n",
       "      <th>vtkOriginalIndices</th>\n",
       "      <th>__vtkIsSelected__</th>\n",
       "      <th>vtkCompositeIndexArray</th>\n",
       "    </tr>\n",
       "  </thead>\n",
       "  <tbody>\n",
       "    <tr>\n",
       "      <th>0</th>\n",
       "      <td>1.081540e-21</td>\n",
       "      <td>-0.000581</td>\n",
       "      <td>1.99848</td>\n",
       "      <td>0.002026</td>\n",
       "      <td>1.081540e-21</td>\n",
       "      <td>0.00000</td>\n",
       "      <td>0.0</td>\n",
       "      <td>0.0</td>\n",
       "      <td>0</td>\n",
       "      <td>0</td>\n",
       "      <td>1</td>\n",
       "    </tr>\n",
       "    <tr>\n",
       "      <th>1</th>\n",
       "      <td>1.209930e-20</td>\n",
       "      <td>-0.001143</td>\n",
       "      <td>1.99843</td>\n",
       "      <td>0.002060</td>\n",
       "      <td>1.209930e-20</td>\n",
       "      <td>3.99740</td>\n",
       "      <td>-0.0</td>\n",
       "      <td>0.0</td>\n",
       "      <td>1</td>\n",
       "      <td>0</td>\n",
       "      <td>1</td>\n",
       "    </tr>\n",
       "    <tr>\n",
       "      <th>2</th>\n",
       "      <td>-1.356980e-19</td>\n",
       "      <td>-0.002210</td>\n",
       "      <td>1.99830</td>\n",
       "      <td>0.002171</td>\n",
       "      <td>-1.356980e-19</td>\n",
       "      <td>7.99511</td>\n",
       "      <td>-0.0</td>\n",
       "      <td>0.0</td>\n",
       "      <td>2</td>\n",
       "      <td>0</td>\n",
       "      <td>1</td>\n",
       "    </tr>\n",
       "    <tr>\n",
       "      <th>3</th>\n",
       "      <td>-2.647980e-18</td>\n",
       "      <td>-0.003123</td>\n",
       "      <td>1.99811</td>\n",
       "      <td>0.002360</td>\n",
       "      <td>-2.647980e-18</td>\n",
       "      <td>11.99330</td>\n",
       "      <td>-0.0</td>\n",
       "      <td>0.0</td>\n",
       "      <td>3</td>\n",
       "      <td>0</td>\n",
       "      <td>1</td>\n",
       "    </tr>\n",
       "    <tr>\n",
       "      <th>4</th>\n",
       "      <td>6.847430e-18</td>\n",
       "      <td>-0.003790</td>\n",
       "      <td>1.99784</td>\n",
       "      <td>0.002611</td>\n",
       "      <td>6.847430e-18</td>\n",
       "      <td>15.99230</td>\n",
       "      <td>-0.0</td>\n",
       "      <td>0.0</td>\n",
       "      <td>4</td>\n",
       "      <td>0</td>\n",
       "      <td>1</td>\n",
       "    </tr>\n",
       "  </tbody>\n",
       "</table>\n",
       "</div>"
      ],
      "text/plain": [
       "              T       U:0      U:1       U:2        Result  Points:0  \\\n",
       "0  1.081540e-21 -0.000581  1.99848  0.002026  1.081540e-21   0.00000   \n",
       "1  1.209930e-20 -0.001143  1.99843  0.002060  1.209930e-20   3.99740   \n",
       "2 -1.356980e-19 -0.002210  1.99830  0.002171 -1.356980e-19   7.99511   \n",
       "3 -2.647980e-18 -0.003123  1.99811  0.002360 -2.647980e-18  11.99330   \n",
       "4  6.847430e-18 -0.003790  1.99784  0.002611  6.847430e-18  15.99230   \n",
       "\n",
       "   Points:1  Points:2  vtkOriginalIndices  __vtkIsSelected__  \\\n",
       "0       0.0       0.0                   0                  0   \n",
       "1      -0.0       0.0                   1                  0   \n",
       "2      -0.0       0.0                   2                  0   \n",
       "3      -0.0       0.0                   3                  0   \n",
       "4      -0.0       0.0                   4                  0   \n",
       "\n",
       "   vtkCompositeIndexArray  \n",
       "0                       1  \n",
       "1                       1  \n",
       "2                       1  \n",
       "3                       1  \n",
       "4                       1  "
      ]
     },
     "execution_count": 31,
     "metadata": {},
     "output_type": "execute_result"
    }
   ],
   "source": [
    "T_data.head()"
   ]
  },
  {
   "cell_type": "code",
   "execution_count": 34,
   "metadata": {},
   "outputs": [],
   "source": [
    "T = T_data[['T','vtkOriginalIndices']]"
   ]
  },
  {
   "cell_type": "code",
   "execution_count": 36,
   "metadata": {},
   "outputs": [],
   "source": [
    "T.columns = ['T','pointId']"
   ]
  },
  {
   "cell_type": "code",
   "execution_count": 38,
   "metadata": {},
   "outputs": [],
   "source": [
    "T.to_csv(\"data/U2/T.csv\")"
   ]
  },
  {
   "cell_type": "markdown",
   "metadata": {},
   "source": [
    "## Construct 2D grid points"
   ]
  },
  {
   "cell_type": "code",
   "execution_count": 10,
   "metadata": {},
   "outputs": [],
   "source": [
    "cleanPointData = pd.read_csv(\"data/points.csv\")\n",
    "cleanUData = pd.read_csv(\"data/U.csv\")\n",
    "\n",
    "points = cleanPointData[['x','y','z']]\n",
    "U = cleanUData[['u','v','w']]\n",
    "\n",
    "x = np.arange(0,101,1)\n",
    "y = np.arange(0,151,1)\n",
    "z = 1\n",
    "xx,yy,zz = np.meshgrid(x,y,z)\n",
    "\n",
    "grid = np.concatenate([xx,yy,zz], axis=2)\n",
    "\n",
    "grid = grid.astype(np.float)\n",
    "\n",
    "# Now we need to clean up grid such that it doesn't contain any point witin the boxes\n",
    "boxCtr = list(product([30,50,70],[50,70,90]))\n",
    "\n",
    "for i in range(grid.shape[0]):\n",
    "    for j in range(grid.shape[1]):\n",
    "        for box in boxCtr:\n",
    "            if abs(grid[i,j,0] - box[0]) < 5 and abs(grid[i,j,1] - box[1]) < 5:\n",
    "                grid[i,j,:] = [np.nan, np.nan, np.nan]\n",
    "            else:\n",
    "                continue\n",
    "\n",
    "flatGrid = grid.reshape(-1,3)\n",
    "\n",
    "flatGrid.shape\n",
    "\n",
    "# Interpolate velocity field at this level\n",
    "ugrid = interp.griddata(points.values, U.values[:,0], flatGrid)\n",
    "vgrid = interp.griddata(points.values, U.values[:,1], flatGrid)\n",
    "wgrid = interp.griddata(points.values, U.values[:,2], flatGrid)"
   ]
  },
  {
   "cell_type": "code",
   "execution_count": 16,
   "metadata": {},
   "outputs": [
    {
     "data": {
      "image/png": "[encoded data removed]",
      "text/plain": [
       "<Figure size 720x720 with 1 Axes>"
      ]
     },
     "metadata": {
      "needs_background": "light"
     },
     "output_type": "display_data"
    }
   ],
   "source": [
    "fig, ax = plt.subplots(figsize=(10,10))\n",
    "ax.pcolor(xx[:,:,0], yy[:,:,0], wgrid.reshape(151,101))\n",
    "plt.axis(\"equal\")\n",
    "plt.show()"
   ]
  },
  {
   "cell_type": "code",
   "execution_count": 87,
   "metadata": {},
   "outputs": [
    {
     "data": {
      "text/plain": [
       "(151, 101, 1)"
      ]
     },
     "execution_count": 87,
     "metadata": {},
     "output_type": "execute_result"
    }
   ],
   "source": []
  },
  {
   "cell_type": "code",
   "execution_count": null,
   "metadata": {},
   "outputs": [],
   "source": []
  }
 ],
 "metadata": {
  "kernelspec": {
   "display_name": "Python 3",
   "language": "python",
   "name": "python3"
  },
  "language_info": {
   "codemirror_mode": {
    "name": "ipython",
    "version": 3
   },
   "file_extension": ".py",
   "mimetype": "text/x-python",
   "name": "python",
   "nbconvert_exporter": "python",
   "pygments_lexer": "ipython3",
   "version": "3.6.7"
  }
 },
 "nbformat": 4,
 "nbformat_minor": 2
}
