{
 "cells": [
  {
   "cell_type": "code",
   "execution_count": 295,
   "metadata": {},
   "outputs": [],
   "source": [
    "import numpy as np\n",
    "import pandas as pd\n",
    "import matplotlib.pyplot as plt\n",
    "from scipy.stats import norm, multivariate_normal\n",
    "from scipy.special import gamma, xlogy, logsumexp\n",
    "from scipy.optimize import minimize\n",
    "from mat4py import loadmat"
   ]
  },
  {
   "cell_type": "markdown",
   "metadata": {},
   "source": [
    "# Machine Learning Homework 4"
   ]
  },
  {
   "cell_type": "markdown",
   "metadata": {},
   "source": [
    "## Problem 2: Generalized Linear Model: Probit Regression"
   ]
  },
  {
   "cell_type": "code",
   "execution_count": 544,
   "metadata": {},
   "outputs": [],
   "source": [
    "p2_data = np.loadtxt('HW4/P3/P3.txt', delimiter=' ')\n",
    "X = p2_data[:,:4] # no intercept\n",
    "y = p2_data[:,-1]\n",
    "\n",
    "N = X.shape[0]\n",
    "k = X.shape[1]"
   ]
  },
  {
   "cell_type": "code",
   "execution_count": 545,
   "metadata": {},
   "outputs": [],
   "source": [
    "# Prior value\n",
    "sigma2 = 1"
   ]
  },
  {
   "cell_type": "code",
   "execution_count": 546,
   "metadata": {},
   "outputs": [],
   "source": [
    "# define probit function\n",
    "probit = lambda x: norm.cdf(x)\n",
    "\n",
    "# define posterior distribution function\n",
    "def posterior_func(w_in):\n",
    "    '''w is the parameters, should have the same shape as (k,1)'''\n",
    "    w = w_in.reshape(4,1)\n",
    "    return np.linalg.det(X.T @ X)**0.5 * gamma((2*k-1)/4) * np.squeeze(w.T @ (X.T @ X) @ w)**(-(2*k-1)/4) * (sigma2**(-3/2))**(-k/2)\\\n",
    "           * np.prod([np.squeeze(probit(X[i:i+1,:] @ w)**y[i] * (1-probit(X[i:i+1,:] @ w))**(1-y[i])) for i in range(N)])\n",
    "\n",
    "def NLL(w_in):\n",
    "    w = w_in.reshape(k,1) \n",
    "    return -np.sum([np.squeeze(y[i] * np.log(probit(X[i:i+1,:] @ w)) + (1-y[i]) * np.log(1-probit(X[i:i+1,:] @ w))) for i in range(N)])"
   ]
  },
  {
   "cell_type": "code",
   "execution_count": 547,
   "metadata": {},
   "outputs": [],
   "source": [
    "# Estimate MAP of w\n",
    "w0 = np.ones((k)) * 0.0001\n",
    "res = minimize(NLL, w0, method='Nelder-Mead', tol=1e-6)\n",
    "\n",
    "w_init = res.x\n",
    "cov_init = sigma2 * np.linalg.inv(X.T @ X)"
   ]
  },
  {
   "cell_type": "code",
   "execution_count": null,
   "metadata": {},
   "outputs": [],
   "source": [
    "# Use MH to estimate the posterior distribution\n",
    "count = 10000\n",
    "w_record = np.zeros((count, k))\n",
    "w_record[0,:] = w_init\n",
    "\n",
    "for i in range(1, count):\n",
    "    # step 1: generate new w\n",
    "    w_old = w_record[i-1,:]\n",
    "    w_new = multivariate_normal.rvs(mean=w_old, cov=cov_init)\n",
    "    \n",
    "    # step 2: compute rho\n",
    "    rho = min(1, posterior_func(w_new)/posterior_func(w_old))\n",
    "    \n",
    "    # step 3: accept-reject\n",
    "    if np.random.rand() <= rho:\n",
    "        w_record[i,:] = w_new\n",
    "    else:\n",
    "        w_record[i,:] = w_old\n",
    "    \n",
    "    # print count\n",
    "    if i % 100 == 0:\n",
    "        print(i)"
   ]
  },
  {
   "cell_type": "code",
   "execution_count": 550,
   "metadata": {},
   "outputs": [
    {
     "data": {
      "image/png": "[encoded data removed]",
      "text/plain": [
       "<Figure size 720x720 with 4 Axes>"
      ]
     },
     "metadata": {
      "needs_background": "light"
     },
     "output_type": "display_data"
    }
   ],
   "source": [
    "fig, axes = plt.subplots(nrows=4, figsize=(10,10))\n",
    "for i in range(k):\n",
    "    axes[i].hist(w_record[1000:,i], 100, density=True, facecolor='g', alpha=0.75)\n",
    "    axes[i].set_title(\"w_{}\".format(i))\n",
    "fig.tight_layout()\n",
    "plt.savefig(\"P2_hist.png\")"
   ]
  },
  {
   "cell_type": "markdown",
   "metadata": {},
   "source": [
    "## Part C: predictive distribution"
   ]
  },
  {
   "cell_type": "code",
   "execution_count": 551,
   "metadata": {},
   "outputs": [],
   "source": [
    "w_sample_count = 1000\n",
    "x_sample_count = 1000\n",
    "x_sample_range = [(X[:,i].min(), X[:,i].max()) for i in range(k)]"
   ]
  },
  {
   "cell_type": "code",
   "execution_count": 552,
   "metadata": {},
   "outputs": [],
   "source": [
    "# x_sample shape: N x k\n",
    "x_sample = np.concatenate([(x_sample_range[i][1]-x_sample_range[i][0]) * np.random.random_sample((x_sample_count,1)) + x_sample_range[i][0]\\\n",
    "            for i in range(k)], axis=1)\n",
    "# w_sample shape: k x M\n",
    "w_sample = np.concatenate([np.random.choice(w_record[1000:,i], (1, w_sample_count)) for i in range(k)], axis=0)"
   ]
  },
  {
   "cell_type": "code",
   "execution_count": 553,
   "metadata": {},
   "outputs": [],
   "source": [
    "# compute results\n",
    "ypred = np.squeeze(np.concatenate([probit(x_sample @ w_sample[:,i:i+1]) for i in range(w_sample_count)], axis=0))"
   ]
  },
  {
   "cell_type": "code",
   "execution_count": 561,
   "metadata": {},
   "outputs": [
    {
     "data": {
      "image/png": "[encoded data removed]",
      "text/plain": [
       "<Figure size 576x288 with 1 Axes>"
      ]
     },
     "metadata": {
      "needs_background": "light"
     },
     "output_type": "display_data"
    }
   ],
   "source": [
    "fig, ax = plt.subplots(figsize=(8,4))\n",
    "ax.hist(ypred, 100, density=False, facecolor='g', alpha=0.75)\n",
    "plt.savefig(\"P2_pred.png\")"
   ]
  },
  {
   "cell_type": "markdown",
   "metadata": {},
   "source": [
    "## Part D:Marginal Distribution of y and Bayes Factor"
   ]
  },
  {
   "cell_type": "code",
   "execution_count": 562,
   "metadata": {},
   "outputs": [],
   "source": [
    "# compute mean and cov from MCMC output\n",
    "w_mean_array = w_record[1000:, :].mean(axis=0)\n",
    "w_mean = w_mean_array.reshape(k,1)\n",
    "V = 2*np.cov(w_record[1000:,:],rowvar=False)\n",
    "V_inv = np.linalg.inv(V)\n",
    "V_det= np.linalg.det(V)"
   ]
  },
  {
   "cell_type": "code",
   "execution_count": 556,
   "metadata": {},
   "outputs": [],
   "source": [
    "# Importance sampling for marginal probability of y\n",
    "def imptSampling(M):\n",
    "    #w_sample = np.concatenate([np.random.choice(w_record[1000:,i], (1, M)) for i in range(k)], axis=0)\n",
    "    constant = np.linalg.det(X.T @ X)**0.5 * gamma((2*k-1)/4) * (sigma2**(-3/2))**(-k/2)\n",
    "    summands = []\n",
    "    for i in range(M):\n",
    "        w = multivariate_normal.rvs(mean=w_mean_array, cov=V).reshape(k,1)\n",
    "        A1 = -(2*k+1)/4 * np.asscalar(np.log(w.T @ (X.T @ X) @ w))\n",
    "        A2 = np.sum([xlogy(y[i], np.asscalar(probit(X[i:i+1,:] @ w))) + xlogy(1-y[i], 1-np.asscalar(probit(X[i:i+1,:] @ w))) for i in range(N)])\n",
    "        A3 = 0.5 * np.log(V_det) + k/2 * np.log(4*np.pi) + np.asscalar((w - w_mean).T @ V_inv @ (w - w_mean)) /4\n",
    "        summands.append(A1+A2+A3)\n",
    "    log_p_y = np.log10(np.exp(logsumexp(summands)) * constant)\n",
    "    return log_p_y"
   ]
  },
  {
   "cell_type": "code",
   "execution_count": 558,
   "metadata": {},
   "outputs": [],
   "source": [
    "p_y_1 = imptSampling(10000)"
   ]
  },
  {
   "cell_type": "code",
   "execution_count": 559,
   "metadata": {},
   "outputs": [],
   "source": [
    "w_null = np.zeros((4,1))\n",
    "p_y_null = np.log10(np.prod(probit(X @ w_null)))"
   ]
  },
  {
   "cell_type": "code",
   "execution_count": 560,
   "metadata": {},
   "outputs": [
    {
     "data": {
      "text/plain": [
       "40.97416957122509"
      ]
     },
     "execution_count": 560,
     "metadata": {},
     "output_type": "execute_result"
    }
   ],
   "source": [
    "p_y_1 - p_y_null"
   ]
  },
  {
   "cell_type": "markdown",
   "metadata": {},
   "source": [
    "# Question 3: Logit Regression"
   ]
  },
  {
   "cell_type": "code",
   "execution_count": 563,
   "metadata": {},
   "outputs": [],
   "source": [
    "# define posterior distribution function\n",
    "sigmoid = lambda x: 1/(1+np.exp(-x))\n",
    "\n",
    "def posterior_func(w_in):\n",
    "    '''w is the parameters, should have the same shape as (k,1)'''\n",
    "    w = w_in.reshape(k,1)\n",
    "    return np.linalg.det(X.T @ X)**0.5 * gamma((2*k-1)/4) * np.squeeze(w.T @ (X.T @ X) @ w)**(-(2*k-1)/4) * (sigma2**(-3/2))**(-k/2)\\\n",
    "            * np.exp(np.sum([y[i] * np.asscalar(X[i:i+1,:] @ w) for i in range(N)]))\\\n",
    "            / np.prod([1 + np.exp(np.asscalar(X[i:i+1,:] @ w)) for i in range(N)])\n",
    "\n",
    "def NLL(w_in):\n",
    "    w = w_in.reshape(k,1) \n",
    "    return -np.log(np.exp(np.sum([y[i] * np.asscalar(X[i:i+1,:] @ w) for i in range(N)]))\\\n",
    "            / np.prod([1 + np.exp(np.asscalar(X[i:i+1,:] @ w)) for i in range(N)]))"
   ]
  },
  {
   "cell_type": "code",
   "execution_count": 564,
   "metadata": {},
   "outputs": [],
   "source": [
    "# Estimate MAP of w\n",
    "w0 = np.ones((k)) * 0.0001\n",
    "res = minimize(NLL, w0, method='Nelder-Mead', tol=1e-6)\n",
    "\n",
    "w_init = res.x\n",
    "cov_init = sigma2 * np.linalg.inv(X.T @ X)"
   ]
  },
  {
   "cell_type": "code",
   "execution_count": null,
   "metadata": {},
   "outputs": [],
   "source": [
    "# Use MH to estimate the posterior distribution\n",
    "count = 10000\n",
    "w_record = np.zeros((count, k))\n",
    "w_record[0,:] = w_init\n",
    "\n",
    "for i in range(1, count):\n",
    "    # step 1: generate new w\n",
    "    w_old = w_record[i-1,:]\n",
    "    w_new = multivariate_normal.rvs(mean=w_old, cov=cov_init)\n",
    "    \n",
    "    # step 2: compute rho\n",
    "    rho = min(1, posterior_func(w_new)/posterior_func(w_old))\n",
    "    \n",
    "    # step 3: accept-reject\n",
    "    if np.random.rand() <= rho:\n",
    "        w_record[i,:] = w_new\n",
    "    else:\n",
    "        w_record[i,:] = w_old\n",
    "    \n",
    "    # print count\n",
    "    if i % 100 == 0:\n",
    "        print(i)"
   ]
  },
  {
   "cell_type": "code",
   "execution_count": 567,
   "metadata": {},
   "outputs": [
    {
     "data": {
      "image/png": "[encoded data removed]",
      "text/plain": [
       "<Figure size 720x720 with 4 Axes>"
      ]
     },
     "metadata": {
      "needs_background": "light"
     },
     "output_type": "display_data"
    }
   ],
   "source": [
    "fig, axes = plt.subplots(nrows=4, figsize=(10,10))\n",
    "for i in range(k):\n",
    "    axes[i].hist(w_record[1000:,i], 100, density=True, facecolor='g', alpha=0.75)\n",
    "    axes[i].set_title(\"w_{}\".format(i))\n",
    "fig.tight_layout()\n",
    "plt.savefig(\"P3_hist.png\")"
   ]
  },
  {
   "cell_type": "markdown",
   "metadata": {},
   "source": [
    "## Part C: predictive distribution"
   ]
  },
  {
   "cell_type": "code",
   "execution_count": 568,
   "metadata": {},
   "outputs": [],
   "source": [
    "w_sample_count = 1000\n",
    "x_sample_count = 1000\n",
    "x_sample_range = [(X[:,i].min(), X[:,i].max()) for i in range(k)]"
   ]
  },
  {
   "cell_type": "code",
   "execution_count": 569,
   "metadata": {},
   "outputs": [],
   "source": [
    "# x_sample shape: N x k\n",
    "x_sample = np.concatenate([(x_sample_range[i][1]-x_sample_range[i][0]) * np.random.random_sample((x_sample_count,1)) + x_sample_range[i][0]\\\n",
    "            for i in range(k)], axis=1)\n",
    "# w_sample shape: k x M\n",
    "w_sample = np.concatenate([np.random.choice(w_record[1000:,i], (1, w_sample_count)) for i in range(k)], axis=0)"
   ]
  },
  {
   "cell_type": "code",
   "execution_count": 570,
   "metadata": {},
   "outputs": [],
   "source": [
    "# compute results\n",
    "ypred = np.squeeze(np.concatenate([sigmoid(x_sample @ w_sample[:,i:i+1]) for i in range(w_sample_count)], axis=0))"
   ]
  },
  {
   "cell_type": "code",
   "execution_count": 571,
   "metadata": {},
   "outputs": [
    {
     "data": {
      "image/png": "[encoded data removed]",
      "text/plain": [
       "<Figure size 576x288 with 1 Axes>"
      ]
     },
     "metadata": {
      "needs_background": "light"
     },
     "output_type": "display_data"
    }
   ],
   "source": [
    "fig, ax = plt.subplots(figsize=(8,4))\n",
    "ax.hist(ypred, 100, density=False, facecolor='g', alpha=0.75)\n",
    "plt.savefig(\"P3_pred.png\")"
   ]
  },
  {
   "cell_type": "markdown",
   "metadata": {},
   "source": [
    "# Question 4: K-clustering"
   ]
  },
  {
   "cell_type": "code",
   "execution_count": 573,
   "metadata": {},
   "outputs": [],
   "source": [
    "import ipdb as debugger"
   ]
  },
  {
   "cell_type": "code",
   "execution_count": 574,
   "metadata": {},
   "outputs": [],
   "source": [
    "p4_data = loadmat('HW4/P4/yeastData310.mat')"
   ]
  },
  {
   "cell_type": "code",
   "execution_count": 575,
   "metadata": {},
   "outputs": [
    {
     "data": {
      "text/plain": [
       "dict_keys(['genes', 'times', 'X'])"
      ]
     },
     "execution_count": 575,
     "metadata": {},
     "output_type": "execute_result"
    }
   ],
   "source": [
    "p4_data.keys()"
   ]
  },
  {
   "cell_type": "code",
   "execution_count": 576,
   "metadata": {},
   "outputs": [],
   "source": [
    "genes = np.array(p4_data['genes'])\n",
    "times = np.array(p4_data['times'])\n",
    "X = np.array(p4_data['X'])"
   ]
  },
  {
   "cell_type": "code",
   "execution_count": 577,
   "metadata": {},
   "outputs": [
    {
     "data": {
      "text/plain": [
       "array([  0,  22,  30,  54, 115,  54, 119, 134, 110, 149])"
      ]
     },
     "execution_count": 577,
     "metadata": {},
     "output_type": "execute_result"
    }
   ],
   "source": [
    "np.random.randint(0,N,10)"
   ]
  },
  {
   "cell_type": "code",
   "execution_count": 584,
   "metadata": {},
   "outputs": [],
   "source": [
    "# Initialise cluster means\n",
    "M = X.shape[1]\n",
    "N = X.shape[0]\n",
    "\n",
    "K = 16\n",
    "X_range = [(X[:,i].min(), X[:,i].max()) for i in range(M)]\n",
    "\n",
    "# initialise cluster means\n",
    "\n",
    "mu = np.concatenate([X[n:n+1,:] for n in np.random.randint(0,N,K)], axis=0)\n",
    "\n",
    "# Initialise assignment\n",
    "r = np.zeros((N,K),dtype=int)\n",
    "for i in range(N):\n",
    "    indmin = np.argmin([np.sum((X[i,:] - mu[k,:]) ** 2) for k in range(K)])\n",
    "    #print(indmin)\n",
    "    r[i, indmin] = 1"
   ]
  },
  {
   "cell_type": "code",
   "execution_count": 585,
   "metadata": {},
   "outputs": [
    {
     "name": "stdout",
     "output_type": "stream",
     "text": [
      "[ 7 21  3 20  6 12 18 20 20  1 11 85 15 24 32 15]\n"
     ]
    }
   ],
   "source": [
    "print(np.sum(r,axis=0))"
   ]
  },
  {
   "cell_type": "code",
   "execution_count": 586,
   "metadata": {},
   "outputs": [],
   "source": [
    "# EM for clustering\n",
    "J_old = 1000\n",
    "err = 100\n",
    "J_record = []\n",
    "while err > 1e-6:\n",
    "    # expectation: iterate over each data point and assign closest cluster center\n",
    "    r = np.zeros((N,K),dtype=int)\n",
    "    for i in range(N):\n",
    "        indmin = np.argmin([np.sum((X[i,:] - mu[k,:]) ** 2) for k in range(K)])\n",
    "        #print(indmin)\n",
    "        r[i, indmin] = 1\n",
    "    \n",
    "    # maximization\n",
    "    for k in range(K):\n",
    "        mu[k,:] = np.sum([r[i,k] * X[i,:] for i in range(N)], axis=0) / np.sum(r[:,k])\n",
    "    #break\n",
    "    # compute distortion measure\n",
    "    J_new = np.sqrt(np.sum([[r[n,k] * np.sum((X[n,:] - mu[k,:]) ** 2) for k in range(K)] for n in range(N)]))\n",
    "    err = np.abs(J_new - J_old)\n",
    "    J_record.append(J_new)\n",
    "    J_old = J_new"
   ]
  },
  {
   "cell_type": "code",
   "execution_count": 587,
   "metadata": {},
   "outputs": [],
   "source": [
    "k_count = np.sum(r,axis=0)"
   ]
  },
  {
   "cell_type": "code",
   "execution_count": 588,
   "metadata": {},
   "outputs": [
    {
     "data": {
      "image/png": "[encoded data removed]",
      "text/plain": [
       "<Figure size 432x288 with 1 Axes>"
      ]
     },
     "metadata": {
      "needs_background": "light"
     },
     "output_type": "display_data"
    }
   ],
   "source": [
    "plt.plot(J_record)\n",
    "plt.title(\"Distortion measure\")\n",
    "plt.show()"
   ]
  },
  {
   "cell_type": "code",
   "execution_count": 589,
   "metadata": {},
   "outputs": [
    {
     "name": "stdout",
     "output_type": "stream",
     "text": [
      "Cluster Means [n0 of points] : [Position]\n",
      "0[14]: [ 0.12692857 -0.08928571 -0.17664286 -0.74657143 -0.82721429 -1.54964286\n",
      " -2.33078571]\n",
      "1[21]: [-0.03152381  0.25533333  0.70471429  1.57604762  1.81928571  3.58885714\n",
      "  3.32519048]\n",
      "2[13]: [-1.274      -2.15376923  0.08246154 -0.16076923 -0.32115385  1.08561538\n",
      "  0.88961538]\n",
      "3[34]: [-0.09276471  0.02708824  0.44923529  0.87826471  1.3375      2.89464706\n",
      "  2.02711765]\n",
      "4[9]: [-0.43055556 -0.14388889 -0.22511111 -0.103      -0.136       1.06855556\n",
      "  3.12855556]\n",
      "5[8]: [ 0.050375 -0.095    -0.3775   -0.781875 -0.836875 -2.254875 -0.546375]\n",
      "6[25]: [-0.0048   0.19912  0.16768  0.83608  1.11972  2.73652  3.04068]\n",
      "7[10]: [-0.8253 -1.2539 -0.2322 -0.3088 -2.6533  1.1658  0.9143]\n",
      "8[20]: [ 0.23705  0.32545  0.19715 -0.29305 -0.29555 -1.70085 -2.15555]\n",
      "9[1]: [-0.4   -1.345 -0.282 -0.071  0.379  3.962  3.122]\n",
      "10[11]: [ 0.13509091  0.00436364 -0.23963636 -0.87863636 -1.09572727 -2.67009091\n",
      " -2.47036364]\n",
      "11[39]: [0.07628205 0.29871795 0.58458974 1.0605641  1.34948718 1.98474359\n",
      " 2.04184615]\n",
      "12[15]: [-0.53353333 -0.6942     -0.06686667 -0.02166667 -0.3438      1.7676\n",
      "  2.31766667]\n",
      "13[36]: [-0.20336111 -0.13344444  0.10163889  0.36119444  0.47336111  2.25944444\n",
      "  1.54869444]\n",
      "14[42]: [-0.06666667  0.04645238  0.16395238  0.4162619   0.74347619  1.638\n",
      "  2.4257619 ]\n",
      "15[12]: [ 0.28833333  0.193       0.00441667 -0.69358333 -0.74308333 -2.21475\n",
      " -1.70066667]\n"
     ]
    }
   ],
   "source": [
    "print(\"Cluster Means [n0 of points] : [Position]\")\n",
    "for i in range(K):\n",
    "    print(\"{}[{}]: {}\".format(i, k_count[i], mu[i,:]))"
   ]
  }
 ],
 "metadata": {
  "kernelspec": {
   "display_name": "Python 3",
   "language": "python",
   "name": "python3"
  },
  "language_info": {
   "codemirror_mode": {
    "name": "ipython",
    "version": 3
   },
   "file_extension": ".py",
   "mimetype": "text/x-python",
   "name": "python",
   "nbconvert_exporter": "python",
   "pygments_lexer": "ipython3",
   "version": "3.6.8"
  }
 },
 "nbformat": 4,
 "nbformat_minor": 2
}
