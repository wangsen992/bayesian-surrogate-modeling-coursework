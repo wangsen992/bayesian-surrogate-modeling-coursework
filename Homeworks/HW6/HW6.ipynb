{
 "cells": [
  {
   "cell_type": "markdown",
   "metadata": {},
   "source": [
    "# Machine Learning Homework 6"
   ]
  },
  {
   "cell_type": "code",
   "execution_count": 1,
   "metadata": {},
   "outputs": [],
   "source": [
    "import numpy as np\n",
    "import matplotlib.pyplot as plt\n",
    "from mpl_toolkits.mplot3d import Axes3D\n",
    "from mat4py import loadmat\n",
    "from scipy.optimize import minimize\n",
    "import ipdb as debugger"
   ]
  },
  {
   "cell_type": "markdown",
   "metadata": {},
   "source": [
    "## Problem 1: Support Vector Machine"
   ]
  },
  {
   "cell_type": "markdown",
   "metadata": {},
   "source": [
    "## Part A\n",
    "a). For the regression support vector machine considered aboce, show that all training data points for which $\\xi_n > 0$ will have $a_n = C$ and similarly all points for which $\\hat{\\xi}_n > 0$ will have $\\hat{a}_n = C$ "
   ]
  },
  {
   "cell_type": "markdown",
   "metadata": {},
   "source": [
    "In SVM regression, the regularized error fufnction, using $\\epsilon$-insensitive error function, is given by, \n",
    "\\begin{equation}\n",
    "C\\sum_{n=1}^N E_\\epsilon(y(\\mathbf{x}_n) - t_n) + \\frac{1}{2}||\\mathbf{w}||^2\n",
    "\\end{equation}\n",
    "\n",
    "After introducing the slack variables, the Lagrangian to be optimized is therefore, \n",
    "\\begin{align}\n",
    "L = &C\\sum_{n=1}^N (\\xi_n + \\hat{\\xi_n}) + \\frac{1}{2}||\\mathbf{w}||^2 - \\sum_{n=1}^N(\\mu_n\\xi_n + \\hat{\\mu}_n\\hat{\\xi}_n) \\\\\n",
    "&- \\sum_{n=1}^N a_n(\\epsilon + \\xi_n + y_n - t_n) - \\sum_{n=1}^N \\hat{a}_n (\\epsilon + \\hat{\\xi_n} - y_n + t_n)\n",
    "\\end{align}\n",
    "Subject to $a_n \\geq 0,\\hat{a}_n \\geq 0, \\mu_n \\geq 0$ and $\\hat{\\mu}_n \\geq 0$\n",
    "\n",
    "Therefore, under KKT conditions, we know that, \n",
    "\\begin{align}\n",
    "a_n (\\epsilon + \\xi_n + y_n - t_n) &= 0\\\\\n",
    "\\hat{a}_n (\\epsilon + \\hat{\\xi}_n - y_n + t_n) &= 0\\\\\n",
    "(C - a_n) \\xi_n &= 0\\\\\n",
    "(C - \\hat{a}_n)\\xi_n &= 0\n",
    "\\end{align}\n",
    "\n",
    "From equation 3 and 4, we can see that $\\xi_n > 0$ will have $a_n = C$ and $\\hat{\\xi}_n > 0$ will have $\\hat{a}_n = C$ \n"
   ]
  },
  {
   "cell_type": "markdown",
   "metadata": {},
   "source": [
    "b). Compute the dual lagrangian for the support vector regression. "
   ]
  },
  {
   "cell_type": "markdown",
   "metadata": {},
   "source": [
    "If we take derivative of the lagrangian above with respect to $\\mathbf{w}$, $b$, $\\xi_n$ and $\\hat{\\xi}_n$ to zero, we have, \n",
    "\\begin{align}\n",
    "\\frac{\\partial L}{\\partial \\mathbf{w}} &= 0\\ \\to \\ \\mathbf{w} = \\sum_{n=1}^N(a_n - \\hat{a_n})\\boldsymbol{\\phi}(\\mathbf{x}_n)\\\\\n",
    "\\frac{\\partial L}{\\partial b} &= 0 \\ \\to \\ \\sum_{n=1}^N(a_n - \\hat{a}_n) = 0\\\\\n",
    "\\frac{\\partial L}{\\partial \\xi_n} &= 0 \\ \\to \\ a_n + \\mu_n = C\\\\\n",
    "\\frac{\\partial L}{\\partial \\hat{\\xi}_n} &= 0 \\ \\to \\ \\hat{a}_n + \\hat{\\mu}_n = C\n",
    "\\end{align}"
   ]
  },
  {
   "cell_type": "markdown",
   "metadata": {},
   "source": [
    "Using the relations obtained we can get a dual Lagrangian, which is, \n",
    "\\begin{align}\n",
    "\\tilde{L}(\\mathbf{a}, \\hat{\\mathbf{a}}) = &-\\frac{1}{2}\\sum_{n=1}^N \\sum_{m=1}^N (a_n - \\hat{a}_n)(a_m - \\hat{a}_m)k(\\mathbf{x}_n, \\mathbf{x}_m)\\\\\n",
    "&-\\epsilon\\sum_{n=1}^N(a_n + \\hat{a}_n) + \\sum_{n=1}^N(a_n - \\hat{a}_n)t_n\n",
    "\\end{align}"
   ]
  },
  {
   "cell_type": "markdown",
   "metadata": {},
   "source": [
    "### Part B\n",
    "For the data-set given, train a support vector machine with polynomial kernel $p$. Perform for various polynomial orders and plot order vs. error. To ensure hard margin, use $C = 10^6$. "
   ]
  },
  {
   "cell_type": "markdown",
   "metadata": {},
   "source": [
    "The implementation of the SVM is described as such. The prediction model is obtained as, \n",
    "\\begin{equation}\n",
    "y(\\mathbf{x}) = \\sum_{n=1}^N (a_n - \\hat{a}_n)k(\\mathbf{x}, \\mathbf{x}_n) + b\n",
    "\\end{equation}\n",
    "\n",
    "where the constituents of the coefficients are determined by the results from Karush-Kuhn-Tucker condtiions, being, \n",
    "\\begin{align}\n",
    "a_n (\\epsilon + \\xi_n + y_n - t_n) &= 0\\\\\n",
    "\\hat{a}_n (\\epsilon + \\hat{\\xi}_n - y_n + t_n) &= 0\\\\\n",
    "(C - a_n) \\xi_n &= 0\\\\\n",
    "(C - \\hat{a}_n)\\xi_n &= 0\n",
    "\\end{align}\n",
    "\n",
    "Here we obtain the solution through CG minimization on the dual lagrangian,\n",
    "\\begin{align}\n",
    "\\tilde{L}(\\mathbf{a}, \\hat{\\mathbf{a}}) = &-\\frac{1}{2}\\sum_{n=1}^N \\sum_{m=1}^N (a_n - \\hat{a}_n)(a_m - \\hat{a}_m)k(\\mathbf{x}_n, \\mathbf{x}_m)\\\\\n",
    "&-\\epsilon\\sum_{n=1}^N(a_n + \\hat{a}_n) + \\sum_{n=1}^N(a_n - \\hat{a}_n)t_n\n",
    "\\end{align}\n",
    "\n",
    "subject the the box constraint, \n",
    "\\begin{align}\n",
    "0 \\leq a_n \\leq C&\\\\\n",
    "0 \\leq \\hat{a}_n \\leq C&\n",
    "\\end{align}\n",
    "\n",
    "The bias $b$ can be obtained by, \n",
    "\\begin{equation}\n",
    "b = t_n - \\epsilon - \\sum_{m=1}^N(a_m - \\hat{a}_m)k(\\mathbf{x}_n, \\mathbf{x}_m)\n",
    "\\end{equation}"
   ]
  },
  {
   "cell_type": "code",
   "execution_count": 4,
   "metadata": {},
   "outputs": [
    {
     "name": "stdout",
     "output_type": "stream",
     "text": [
      "dict_keys(['test_data', 'test_label', 'train_data', 'train_label'])\n"
     ]
    }
   ],
   "source": [
    "# import data\n",
    "p1_data = loadmat(\"Resources/P1/P1.mat\")\n",
    "print(p1_data.keys())"
   ]
  },
  {
   "cell_type": "code",
   "execution_count": 5,
   "metadata": {},
   "outputs": [],
   "source": [
    "test_data = np.array(p1_data['test_data'])\n",
    "test_label = np.array(p1_data['test_label'])\n",
    "train_data = np.array(p1_data['train_data'])\n",
    "train_label = np.array(p1_data['train_label'])"
   ]
  },
  {
   "cell_type": "code",
   "execution_count": 6,
   "metadata": {},
   "outputs": [
    {
     "data": {
      "text/plain": [
       "(30, 285)"
      ]
     },
     "execution_count": 6,
     "metadata": {},
     "output_type": "execute_result"
    }
   ],
   "source": [
    "train_data.shape"
   ]
  },
  {
   "cell_type": "code",
   "execution_count": 7,
   "metadata": {},
   "outputs": [
    {
     "data": {
      "text/plain": [
       "(285, 1)"
      ]
     },
     "execution_count": 7,
     "metadata": {},
     "output_type": "execute_result"
    }
   ],
   "source": [
    "train_label.shape"
   ]
  },
  {
   "cell_type": "code",
   "execution_count": 8,
   "metadata": {},
   "outputs": [],
   "source": [
    "D, N = train_data.shape"
   ]
  },
  {
   "cell_type": "code",
   "execution_count": 9,
   "metadata": {},
   "outputs": [],
   "source": [
    "# define kernel function\n",
    "def poly(xvec1, xvec2, c, m):\n",
    "    '''\n",
    "    Polynomial kernel containing all terms up to order m: \n",
    "    k(xvec1, xvec2) = (xvec1.T @ xvec2 + c)**M for c>0\n",
    "    \n",
    "    xvec1: D x 1 2D array\n",
    "    xvec2: D x 1 2D array\n",
    "    c    : float\n",
    "    m    : int\n",
    "    '''\n",
    "    \n",
    "    return (np.squeeze(xvec1.T @ xvec2) + c)**m"
   ]
  },
  {
   "cell_type": "code",
   "execution_count": 10,
   "metadata": {},
   "outputs": [],
   "source": [
    "# define lagrangian and derivative of lagrangian\n",
    "def L_tilde(A, *args):\n",
    "    '''\n",
    "    Dual Lagrangian for SVM regression. \n",
    "    \n",
    "    A    : 2N 1D array, concatenation of a and a_hat. In this form to parse to scipy optimizer\n",
    "    C    : float, inverse regularization parameter\n",
    "    eps  : float, tube size for epsilon-insenstive error\n",
    "    X    : DxN 2D array, training input data\n",
    "    T    : Nx1 2D array, training label\n",
    "    k    : function, kernel function (compatible with polynomial kernel here only)\n",
    "    c_k  : float, kernel parameter\n",
    "    m    : int, kernel parameter\n",
    "    '''\n",
    "    eps, X, T, K = args\n",
    "    D,N = X.shape\n",
    "    # unpack params\n",
    "    a_nh = A[:N].reshape(N,1)\n",
    "    a_hat = A[N:].reshape(N,1)\n",
    "    \n",
    "    # construct kernel matrix\n",
    "    #debugger.set_trace()\n",
    "    # compute L_tilde\n",
    "    L = -0.5 * np.asscalar((a_nh-a_hat).T @ K @ (a_nh-a_hat)) - eps * np.sum(a_nh+a_hat) + np.sum((a_nh-a_hat) * T)\n",
    "    #print(L)\n",
    "    return L"
   ]
  },
  {
   "cell_type": "code",
   "execution_count": 11,
   "metadata": {},
   "outputs": [],
   "source": [
    "# Initialise training\n",
    "C = 1e6\n",
    "eps = 0.1\n",
    "\n",
    "bounds = [(0,C) for i in range(2*N)]"
   ]
  },
  {
   "cell_type": "code",
   "execution_count": 12,
   "metadata": {},
   "outputs": [],
   "source": [
    "def K_matrix(data1, data2, m):\n",
    "        '''\n",
    "        data1: D x N1\n",
    "        data2: D x N2\n",
    "        kernel is poly only.\n",
    "        '''\n",
    "        N1 = data1.shape[1]\n",
    "        N2 = data2.shape[1]\n",
    "        \n",
    "        return np.array([[poly(data1[:,n:n+1], data2[:,j:j+1], 1, m) for j in range(N2)] for n in range(N1)])\n",
    "    \n",
    "# Perform minimization on lagrangian\n",
    "class SVM_reg(object):\n",
    "    def __init__(self):\n",
    "        pass\n",
    "    \n",
    "    def train(self, data, label, m, C=1e6, eps=0.1):\n",
    "        self.data = data\n",
    "        self.label = label\n",
    "        D,N = data.shape\n",
    "        A0 = np.random.random(2*N) * C\n",
    "        K = K_matrix(data, data,m)\n",
    "        #debugger.set_trace()\n",
    "        res = minimize(L_tilde, A0, args=(eps, data, label, K), method='L-BFGS-B', bounds = bounds, tol=1e-8)\n",
    "        A = res.x\n",
    "        # correct constraint incompatibility\n",
    "        A[A>0] = C\n",
    "        self.m = m\n",
    "        self.N = N\n",
    "        self.eps = eps\n",
    "        self.C = C\n",
    "        self.a_nh = A[:N]\n",
    "        self.a_hat = A[N:]\n",
    "        self.b = label[0,0] - eps - (self.a_nh - self.a_hat).reshape(1,N) @ K[:,0]\n",
    "        \n",
    "    def predict(self, pred_data):\n",
    "        '''Data should be in 2D array, D x N format'''\n",
    "        K = K_matrix(pred_data, self.data, self.m)\n",
    "        y = K @ (self.a_nh - self.a_hat).reshape(self.N, 1) + self.b # shape: N_pred x 1\n",
    "        \n",
    "        # Accidentally used regression for classification. Here an observation is made that large values\n",
    "        # prediction is produced having the opposite signs of the target. So a custom filter is used to get\n",
    "        # the result\n",
    "        y = (y<0).astype(int)\n",
    "        y[y==0] = -1\n",
    "        \n",
    "        return y\n",
    "        \n",
    "\n",
    "    def test(self, test_data, test_label):\n",
    "        y = self.predict(test_data)\n",
    "        # using eps-insensitive loss\n",
    "        diff = y - test_label\n",
    "        diff[diff < self.eps] = 0\n",
    "        return np.mean(diff)"
   ]
  },
  {
   "cell_type": "code",
   "execution_count": 13,
   "metadata": {},
   "outputs": [],
   "source": [
    "SVM_regressor = SVM_reg()\n",
    "SVM_regressor.train(train_data, train_label,10)"
   ]
  },
  {
   "cell_type": "code",
   "execution_count": 14,
   "metadata": {},
   "outputs": [],
   "source": [
    "err =SVM_regressor.test(test_data, test_label)"
   ]
  },
  {
   "cell_type": "code",
   "execution_count": 15,
   "metadata": {},
   "outputs": [
    {
     "data": {
      "text/plain": [
       "0.4"
      ]
     },
     "execution_count": 15,
     "metadata": {},
     "output_type": "execute_result"
    }
   ],
   "source": [
    "err"
   ]
  },
  {
   "cell_type": "markdown",
   "metadata": {},
   "source": [
    "## Problem 2: Relevance vector machine\n",
    "### Part A\n",
    "a). For RVM discussed above, compute mean and covariance of hte posterior distribution over weights. "
   ]
  },
  {
   "cell_type": "markdown",
   "metadata": {},
   "source": [
    "The posterior distribution is computed as below, \n",
    "\n",
    "\\begin{align}\n",
    "p(\\mathbf{w}|\\mathbf{t}, \\mathbf{X}, \\mathbf{\\alpha}, \\mathbf{\\beta}) &= p(\\mathbf{t}|\\mathbf{X},\\mathbf{w},\\beta^{-1})p(\\mathbf{w}|\\mathbf{\\alpha})\\\\\n",
    "&= \\prod_{n=1}^N \\mathcal{N}(t_n|\\mathbf{w}^T\\boldsymbol{\\phi}(\\mathbf{x}_n), \\beta^{-1})\\prod_{i=1}^M \\mathcal{N}(w_i|0, \\alpha_i^{-1})\\\\\n",
    "&\\propto \\exp\\{(\\mathbf{w} - \\beta\\Sigma\\boldsymbol{\\Phi}^T\\mathbf{t})^T\\boldsymbol{\\Sigma}^{-1}(\\mathbf{w} - \\beta\\Sigma\\boldsymbol{\\Phi}^T\\mathbf{t})\\}\n",
    "\\end{align}"
   ]
  },
  {
   "cell_type": "markdown",
   "metadata": {},
   "source": [
    "Therefore we obtain, \n",
    "\\begin{align}\n",
    "p(\\mathbf{w}|\\mathbf{t}, \\mathbf{X}, \\mathbf{\\alpha}, \\mathbf{\\beta}) &= \\mathcal{N}(\\mathbf{w}|\\mathbf{m},\\boldsymbol{\\Sigma})\\\\\n",
    "\\mathbf{m} &= \\beta\\boldsymbol{\\Sigma}\\boldsymbol{\\Phi}^T\\mathbf{t}\\\\\n",
    "\\boldsymbol{\\Sigma} &= (\\mathbf{A} + \\beta\\boldsymbol{\\Phi}^T\\boldsymbol{\\Phi})^{-1}\n",
    "\\end{align}"
   ]
  },
  {
   "cell_type": "markdown",
   "metadata": {},
   "source": [
    "b). Derive the results for the marginal likelihood function in the regression RVM, by performing the Gaussian integral over w in (7.84) using the technique of completing the square in the exponential. "
   ]
  },
  {
   "cell_type": "markdown",
   "metadata": {},
   "source": [
    "The marginal likelihood is \n",
    "\\begin{align}\n",
    "p(\\mathbf{t}|\\mathbf{X}, \\mathbf{\\alpha}, \\mathbf{\\beta}) &= \\int p(\\mathbf{t}|\\mathbf{X},\\mathbf{w},\\beta^{-1})p(\\mathbf{w}|\\mathbf{\\alpha})d\\mathbf{w}\\\\\n",
    "&= \\int \\prod_{n=1}^N \\mathcal{N}(t_n|\\mathbf{w}^T\\boldsymbol{\\phi}(\\mathbf{x}_n), \\beta^{-1})\\prod_{i=1}^M \\mathcal{N}(w_i|0, \\alpha_i^{-1})d\\mathbf{w}\\\\\n",
    "\\end{align}"
   ]
  },
  {
   "cell_type": "markdown",
   "metadata": {},
   "source": [
    "c). Derive the re-estimation equations as discussed in the notes. "
   ]
  },
  {
   "cell_type": "markdown",
   "metadata": {},
   "source": []
  },
  {
   "cell_type": "markdown",
   "metadata": {},
   "source": [
    "### Part B\n",
    "For the dataset provided, train a regression model by using RVM. Use\n",
    "\\begin{equation}\n",
    "y(\\mathbf{x}) = \\sum_{i=1}^N w_n k(\\mathbf{x}, \\mathbf{x_n}) + b\n",
    "\\end{equation}\n",
    "where $b$ is the bias parameter. Consider the kernel $k$ to be Gaussian with kernel width 5.5. Plot the predictions along with proper prediction bounds. "
   ]
  },
  {
   "cell_type": "code",
   "execution_count": 16,
   "metadata": {},
   "outputs": [
    {
     "name": "stdout",
     "output_type": "stream",
     "text": [
      "dict_keys(['X', 'Xtest', 'Y', 'Ytest'])\n"
     ]
    }
   ],
   "source": [
    "# load p2 data\n",
    "p2_data = loadmat('Resources/P2/P2.mat')\n",
    "print(p2_data.keys())"
   ]
  },
  {
   "cell_type": "code",
   "execution_count": 17,
   "metadata": {},
   "outputs": [],
   "source": [
    "X = np.array(p2_data['X'])\n",
    "Xtest = np.array(p2_data['Xtest'])\n",
    "Y = np.array(p2_data['Y'])\n",
    "Ytest = np.array(p2_data['Ytest'])"
   ]
  },
  {
   "cell_type": "code",
   "execution_count": 18,
   "metadata": {},
   "outputs": [
    {
     "name": "stdout",
     "output_type": "stream",
     "text": [
      "(100, 1)\n",
      "(20, 1)\n",
      "(100, 1)\n",
      "(20, 1)\n"
     ]
    }
   ],
   "source": [
    "print(X.shape)\n",
    "print(Xtest.shape)\n",
    "print(Y.shape)\n",
    "print(Ytest.shape)"
   ]
  },
  {
   "cell_type": "code",
   "execution_count": 27,
   "metadata": {},
   "outputs": [],
   "source": [
    "def kgauss(x1,x2):\n",
    "    \n",
    "    sigma2=5.5\n",
    "    # x1 and x2 are 1d arrays\n",
    "    enorm = np.sqrt(np.sum((x1-x2)**2))  \n",
    "    return np.exp(-enorm/2*sigma2)"
   ]
  },
  {
   "cell_type": "code",
   "execution_count": 126,
   "metadata": {},
   "outputs": [],
   "source": [
    "def Phi_matrix(data1, data2):\n",
    "        '''\n",
    "        data1: N1 x 1\n",
    "        data2: N2 x 1\n",
    "        kernel is poly only.\n",
    "        '''\n",
    "        N1 = data1.shape[0]\n",
    "        N2 = data2.shape[0]\n",
    "        \n",
    "        return np.array([[kgauss(data1[i,0], data2[j,0]) for j in range(N2)] for i in range(N1)])\n",
    "# Training: 1. Get MLE for alpha and beta 2. Update the effective weights\n",
    "class RVM(object):\n",
    "    def __init__(self):\n",
    "        pass\n",
    "    \n",
    "    def train(self, train, label):\n",
    "        '''Data shape: Nx1'''\n",
    "        N = train.shape[0]\n",
    "        \n",
    "        # construct kernel\n",
    "        Phi = Phi_matrix(train, train)\n",
    "        \n",
    "        # Initialise alpha and beta\n",
    "        alpha = np.random.randn(X.shape[0])\n",
    "        beta = 1\n",
    "        \n",
    "        # initialize other parameters\n",
    "        A = np.diag(alpha)\n",
    "        Sigma = np.linalg.inv(A + beta * Phi.T @ Phi)\n",
    "        m = beta * Sigma @ Phi.T @ label\n",
    "        \n",
    "        \n",
    "        # Use re-estimation equations to obtain MLE solution\n",
    "        tol = 1e-6\n",
    "        err_record = []\n",
    "        counter = 0\n",
    "        while True:\n",
    "            gamma = 1 - alpha * np.diag(Sigma)\n",
    "            alpha_new = gamma / (m.reshape(N))**2\n",
    "            beta_new = (N - np.sum(gamma))/np.linalg.norm(label - Phi @ m)\n",
    "            \n",
    "            \n",
    "            # test convergence\n",
    "            A = np.diag(alpha_new)\n",
    "            Sigma_new = np.linalg.inv(A + beta_new * Phi.T @ Phi)\n",
    "            m_new = beta_new * Sigma_new @ Phi.T @ label\n",
    "            \n",
    "            err = max(abs(m_new - m))\n",
    "            err_record.append(err)\n",
    "            if err < tol:\n",
    "                print(\"Training complete\")\n",
    "                break\n",
    "            elif counter > 4000:\n",
    "                print(\"MaxIter exceeded.Final err: {}\".format(err))\n",
    "                break\n",
    "            else:\n",
    "                alpha[:] = alpha_new[:]\n",
    "                beta = beta_new\n",
    "                Sigma[:,:] = Sigma_new[:,:]\n",
    "                m[:,:] = m_new[:,:]\n",
    "                \n",
    "                counter += 1\n",
    "        \n",
    "        self.err_record = err_record\n",
    "        self.alpha = alpha\n",
    "        self.beta = beta\n",
    "        self.Sigma = Sigma\n",
    "        self.w = m\n",
    "        self.Xtrain = train\n",
    "        self.Ytrain = label\n",
    "        self.b = np.mean(label - Phi @ m)\n",
    "    \n",
    "    def pred(self, test):\n",
    "        \n",
    "        # construct Phi matrix\n",
    "        Phi = Phi_matrix(test, self.Xtrain)\n",
    "        self.Ypred = Phi @ self.w\n",
    "        #debugger.set_trace()\n",
    "        self.Ystd = np.diag((1/self.beta + Phi @ self.Sigma @ Phi.T)**0.5)\n",
    "        "
   ]
  },
  {
   "cell_type": "code",
   "execution_count": 127,
   "metadata": {},
   "outputs": [
    {
     "name": "stdout",
     "output_type": "stream",
     "text": [
      "MaxIter exceeded.Final err: [0.01423674]\n"
     ]
    }
   ],
   "source": [
    "rvm = RVM()\n",
    "rvm.train(X,Y)"
   ]
  },
  {
   "cell_type": "code",
   "execution_count": 128,
   "metadata": {},
   "outputs": [],
   "source": [
    "x = np.arange(-10,10,0.1)\n",
    "rvm.pred(x[:,np.newaxis])\n",
    "ypred = np.squeeze(rvm.Ypred)\n",
    "ystd = np.squeeze(rvm.Ystd)\n"
   ]
  },
  {
   "cell_type": "code",
   "execution_count": 130,
   "metadata": {},
   "outputs": [
    {
     "data": {
      "image/png": "[encoded data removed]",
      "text/plain": [
       "<Figure size 360x216 with 1 Axes>"
      ]
     },
     "metadata": {
      "needs_background": "light"
     },
     "output_type": "display_data"
    }
   ],
   "source": [
    "fig, ax= plt.subplots(figsize=(5,3))\n",
    "ax.plot(Xtest, Ytest, 'or')\n",
    "ax.plot(x, ypred, '-', color='gray')\n",
    "\n",
    "ax.fill_between(x, ypred - 2*ystd, ypred + 2*ystd,\n",
    "                 color='gray', alpha=0.2)\n",
    "\n",
    "plt.show()"
   ]
  },
  {
   "cell_type": "markdown",
   "metadata": {},
   "source": [
    "## Problem 3: Gaussian process\n",
    "### Part A\n",
    "Learn the values of $\\theta_{1-3}$ by MLE based on the training points. The log-likelihood is known to be non-convex, so try several starting points for optimization to see if that affects the results. "
   ]
  },
  {
   "cell_type": "code",
   "execution_count": 131,
   "metadata": {},
   "outputs": [],
   "source": [
    "X = np.array([1.71, 2.33, 4.33, 4.84, 4.86, 5.54]).reshape(6,1)\n",
    "Y = np.array([-0.2138, 1.0389, 0.7630, 0.2271, 0.2733, 1.0565]).reshape(6,1)"
   ]
  },
  {
   "cell_type": "code",
   "execution_count": 132,
   "metadata": {},
   "outputs": [],
   "source": [
    "# define kernel\n",
    "def k(x,xp, t1, t2, t3):\n",
    "    return t1 * np.exp(-(x-xp)**2/(2*t2)) + t3 * float(x==xp)\n",
    "\n",
    "# define derivatives\n",
    "def dkdt1(x,xp,t1,t2,t3):\n",
    "    return np.exp(-(x-xp)**2/(2*t2))\n",
    "\n",
    "def dkdt2(x,xp,t1,t2,t3):\n",
    "    return t1/(2*t2**2) * (x-xp)**2 * np.exp(-(x-xp)**2/(2*t2))\n",
    "\n",
    "def dkdt3(x,xp,t1,t2,t3):\n",
    "    return float(x==xp)\n"
   ]
  },
  {
   "cell_type": "code",
   "execution_count": 133,
   "metadata": {},
   "outputs": [],
   "source": [
    "# define derivative of NLL\n",
    "def dNLL(Y,X, t1, t2, t3):\n",
    "    Ky = np.array([[k(X[i,0],X[j,0],t1,t2,t3) for i in range(6)] for j in range(6)])\n",
    "    dKdt1 = np.array([[dkdt1(X[i,0],X[j,0],t1,t2,t3) for i in range(6)] for j in range(6)])\n",
    "    dKdt2 = np.array([[dkdt2(X[i,0],X[j,0],t1,t2,t3) for i in range(6)] for j in range(6)])\n",
    "    dKdt3 = np.array([[dkdt3(X[i,0],X[j,0],t1,t2,t3) for i in range(6)] for j in range(6)])\n",
    "    \n",
    "    Ky_inv = np.linalg.inv(Ky)\n",
    "    alpha = Ky_inv @ Y\n",
    "    \n",
    "    A = (alpha @ alpha.T) - Ky_inv\n",
    "    dNlldt1 = 0.5 * np.trace(A @ dKdt1)\n",
    "    dNlldt2 = 0.5 * np.trace(A @ dKdt2)\n",
    "    dNlldt3 = 0.5 * np.trace(A @ dKdt3)\n",
    "    \n",
    "    return dNlldt1, dNlldt2, dNlldt3"
   ]
  },
  {
   "cell_type": "code",
   "execution_count": 134,
   "metadata": {},
   "outputs": [],
   "source": [
    "# initialise t1-3\n",
    "t1 = 1\n",
    "t2 = 1\n",
    "t3 = 1\n",
    "\n",
    "def cg(t1,t2,t3, lam=0.001, tol=1e-3):\n",
    "    err_record = []\n",
    "    while True:\n",
    "        dNlldt1, dNlldt2, dNlldt3 = dNLL(Y,X,t1,t2,t3)\n",
    "        dt1 = lam * dNlldt1\n",
    "        dt2 = lam * dNlldt2\n",
    "        dt3 = lam * dNlldt3\n",
    "        err = max(abs(np.array([dt1, dt2, dt3])))\n",
    "        err_record.append(err)\n",
    "        \n",
    "\n",
    "        if err < tol:\n",
    "            return t1, t2, t3, err_record\n",
    "            break\n",
    "        \n",
    "        elif np.isnan(err) == True:\n",
    "            print(\"Nan returned\")\n",
    "            break\n",
    "\n",
    "        else:\n",
    "            t1 = t1 - dt1\n",
    "            t2 = t2 - dt2\n",
    "            t3 = t3 - dt3\n",
    "    "
   ]
  },
  {
   "cell_type": "code",
   "execution_count": 135,
   "metadata": {},
   "outputs": [
    {
     "name": "stdout",
     "output_type": "stream",
     "text": [
      "1 1 0.2\n"
     ]
    },
    {
     "data": {
      "text/plain": [
       "[<matplotlib.lines.Line2D at 0x101eb36160>]"
      ]
     },
     "execution_count": 135,
     "metadata": {},
     "output_type": "execute_result"
    },
    {
     "data": {
      "image/png": "[encoded data removed]",
      "text/plain": [
       "<Figure size 432x288 with 1 Axes>"
      ]
     },
     "metadata": {
      "needs_background": "light"
     },
     "output_type": "display_data"
    }
   ],
   "source": [
    "t11, t21, t31, record = cg(1,1,0.2, lam=0.001, tol=1e-3)\n",
    "print(t11,t21,t31)\n",
    "plt.plot(record)"
   ]
  },
  {
   "cell_type": "code",
   "execution_count": 136,
   "metadata": {},
   "outputs": [
    {
     "name": "stdout",
     "output_type": "stream",
     "text": [
      "1.0028329391361783 0.09794010354983883 0.0518160922218951\n"
     ]
    },
    {
     "data": {
      "text/plain": [
       "[<matplotlib.lines.Line2D at 0x101eabc0b8>]"
      ]
     },
     "execution_count": 136,
     "metadata": {},
     "output_type": "execute_result"
    },
    {
     "data": {
      "image/png": "[encoded data removed]",
      "text/plain": [
       "<Figure size 432x288 with 1 Axes>"
      ]
     },
     "metadata": {
      "needs_background": "light"
     },
     "output_type": "display_data"
    }
   ],
   "source": [
    "t12, t22, t32, record = cg(1,0.1,0.01, lam=0.0001, tol=1e-3)\n",
    "print(t12,t22,t32)\n",
    "plt.plot(record)"
   ]
  },
  {
   "cell_type": "code",
   "execution_count": 137,
   "metadata": {},
   "outputs": [
    {
     "name": "stdout",
     "output_type": "stream",
     "text": [
      "3.175780904548586 1.0236993123742404 1.4249431067146867\n"
     ]
    },
    {
     "data": {
      "text/plain": [
       "[<matplotlib.lines.Line2D at 0x101ec063c8>]"
      ]
     },
     "execution_count": 137,
     "metadata": {},
     "output_type": "execute_result"
    },
    {
     "data": {
      "image/png": "[encoded data removed]",
      "text/plain": [
       "<Figure size 432x288 with 1 Axes>"
      ]
     },
     "metadata": {
      "needs_background": "light"
     },
     "output_type": "display_data"
    }
   ],
   "source": [
    "t13, t23, t33, record = cg(3.0,1.16,0.89, lam=0.001, tol=1e-3)\n",
    "print(t13,t23,t33)\n",
    "plt.plot(record)"
   ]
  },
  {
   "cell_type": "markdown",
   "metadata": {},
   "source": [
    "### Part B\n",
    "Run your Gaussian process with the learn parameters to predict for the testing points on the interval $x^* \\in [1,6]$. Plot the prediction mean as well as the 95% condidence interval (two-sigma) of the learnt Gaussian process, and comapre with their exact values computed by the formula: $y = 2x$. Comment on the prediction performance"
   ]
  },
  {
   "cell_type": "code",
   "execution_count": 138,
   "metadata": {},
   "outputs": [],
   "source": [
    "x = np.arange(1,6,0.1)\n",
    "x = x[:,np.newaxis]\n",
    "y_true = x*2"
   ]
  },
  {
   "cell_type": "code",
   "execution_count": 139,
   "metadata": {},
   "outputs": [],
   "source": [
    "def gp_pred(Xtrain,Ytrain, Xpred, t1, t2, t3):\n",
    "    Ky = np.array([[k(Xtrain[i,0],Xtrain[j,0],t1,t2,t3) for i in range(6)] for j in range(6)])\n",
    "    Ks = np.array([[k(Xpred[i,0],Xtrain[j,0],t1,t2,t3) for i in range(Xpred.shape[0])] for j in range(6)])\n",
    "    Kss = np.array([[k(Xpred[i,0],Xpred[j,0],t1,t2,t3) for j in range(Xpred.shape[0])] for i in range(Xpred.shape[0])])\n",
    "    Ymean = np.squeeze(Ks.T @ np.linalg.inv(Ky) @ Ytrain)\n",
    "    Ystd = np.sqrt(np.diag(Kss - Ks.T @ np.linalg.inv(Ky) @ Ks))\n",
    "    \n",
    "    return Ymean, Ystd"
   ]
  },
  {
   "cell_type": "code",
   "execution_count": 140,
   "metadata": {},
   "outputs": [],
   "source": [
    "Ymean1, Ystd1 = gp_pred(X,Y, x, t11,t21,t31)\n",
    "Ymean2, Ystd2 = gp_pred(X,Y, x, t12,t22,t32)\n",
    "Ymean3, Ystd3 = gp_pred(X,Y, x, t13,t23,t33)"
   ]
  },
  {
   "cell_type": "code",
   "execution_count": 141,
   "metadata": {},
   "outputs": [
    {
     "data": {
      "image/png": "[encoded data removed]",
      "text/plain": [
       "<Figure size 1080x216 with 3 Axes>"
      ]
     },
     "metadata": {
      "needs_background": "light"
     },
     "output_type": "display_data"
    }
   ],
   "source": [
    "fig, axes = plt.subplots(ncols=3, figsize=(15,3))\n",
    "axes[0].plot(X, Y, 'or')\n",
    "axes[0].plot(x, Ymean1, '-', color='gray')\n",
    "\n",
    "axes[0].fill_between(x[:,0], Ymean1 - 2*Ystd1, Ymean1 + 2*Ystd1,\n",
    "                 color='gray', alpha=0.2)\n",
    "\n",
    "axes[1].plot(X, Y, 'or')\n",
    "axes[1].plot(x, Ymean2, '-', color='gray')\n",
    "\n",
    "axes[1].fill_between(x[:,0], Ymean2 - 2*Ystd2, Ymean2 + 2*Ystd2,\n",
    "                 color='gray', alpha=0.2)\n",
    "\n",
    "axes[2].plot(X, Y, 'or')\n",
    "axes[2].plot(x, Ymean3, '-', color='gray')\n",
    "\n",
    "axes[2].fill_between(x[:,0], Ymean3 - 2*Ystd3, Ymean3 + 2*Ystd3,\n",
    "                 color='gray', alpha=0.2)\n",
    "\n",
    "plt.show()\n",
    "#axes[0].set_xlim(0, 10);"
   ]
  },
  {
   "cell_type": "markdown",
   "metadata": {},
   "source": [
    "## Problem 4: Gaussian process latent variable model\n",
    "### Part A\n",
    "a). Provide an expression for the likelihood of the data. Assume, the GPs to be independent across the features"
   ]
  },
  {
   "cell_type": "markdown",
   "metadata": {},
   "source": [
    "Indepedence among features implies that the priors have diagonal covariances. Therefore, the corresponding likelihood is \n",
    "\\begin{align}\n",
    "p(\\mathbf{Y}|\\mathbf{X}, \\sigma^2) &= \\prod_{d=1}^D\\mathcal{N}(\\mathbf{y}_{:,d}|\\mathbf{0}, \\mathbf{X}\\mathbf{X}^T + \\sigma^2\\mathbf{I})\\\\\n",
    "&= (2\\pi)^{-DN/2}|\\mathbf{K}_z|^{-D/2}\\exp(-\\frac{1}{2}\\text{tr}(\\mathbf{K}_z^{-1}\\mathbf{Y}\\mathbf{Y}^T))\n",
    "\\end{align}\n",
    "where, \n",
    "\\begin{equation}\n",
    "\\mathbf{K}_z = \\mathbf{X}\\mathbf{X}^T + \\sigma^2\\mathbf{I}\n",
    "\\end{equation}"
   ]
  },
  {
   "cell_type": "markdown",
   "metadata": {},
   "source": [
    "b). The marginal distribution of this form is intractable because that the conditional probability cannot be represented without integrating out the weights which transforms from latent space to the observation space, which again requires a prior on the weights. "
   ]
  },
  {
   "cell_type": "markdown",
   "metadata": {},
   "source": [
    "c). Provide a variational approximation for the marginal distribution. \n",
    "\n",
    "Not sure how to do this. "
   ]
  },
  {
   "cell_type": "markdown",
   "metadata": {},
   "source": [
    "### Part B\n",
    "For the oil data, use GPLVM to identify the latent dimensions. Onsider latent dimensions to be 3. Show the three latent dimensions. "
   ]
  },
  {
   "cell_type": "code",
   "execution_count": 115,
   "metadata": {},
   "outputs": [],
   "source": [
    "dataTrain = np.array(loadmat(\"Resources/P4/DataTrn.mat\")['DataTrn'])\n",
    "dataTest = np.array(loadmat(\"Resources/P4/DataTst.mat\")['DataTst'])\n",
    "dataTrainLbls = np.array(loadmat(\"Resources/P4/DataTrnLbls.mat\")['DataTrnLbls'])\n",
    "dataTestLbls = np.array(loadmat(\"Resources/P4/DataTstLbls.mat\")['DataTstLbls'])"
   ]
  },
  {
   "cell_type": "code",
   "execution_count": 116,
   "metadata": {},
   "outputs": [
    {
     "name": "stdout",
     "output_type": "stream",
     "text": [
      "(1000, 12)\n",
      "(1000, 12)\n",
      "(1000, 3)\n",
      "(1000, 3)\n"
     ]
    }
   ],
   "source": [
    "print(dataTrain.shape)\n",
    "print(dataTest.shape)\n",
    "print(dataTrainLbls.shape)\n",
    "print(dataTestLbls.shape)"
   ]
  },
  {
   "cell_type": "code",
   "execution_count": 163,
   "metadata": {
    "slideshow": {
     "slide_type": "-"
    }
   },
   "outputs": [],
   "source": [
    "# Dimension for latent space\n",
    "D = 3\n",
    "N = dataTrain.shape[0]\n",
    "t1 = 1\n",
    "t2 = 0.1\n",
    "t3 = 0.05\n",
    "\n",
    "# kernel for latent space\n",
    "# define kernel\n",
    "def k(x,xp, t1=t1, t2=t2, t3=t3):\n",
    "    return t1 * np.exp(-np.sum((x-xp)**2)/(2*t2)) # + t3 * float(max(abs(x - xp)) == 0)"
   ]
  },
  {
   "cell_type": "code",
   "execution_count": 164,
   "metadata": {},
   "outputs": [],
   "source": [
    "def error(Z, labels):\n",
    "    return np.mean(np.abs((Z - labels)))\n",
    "\n",
    "def lGPLVM(Z, Y, sigma2, D, k, labels, t1=t1, t2=t2, t3=t3):\n",
    "    '''To use in the standard optimizer, Z is parsed as 3N array'''\n",
    "    global nll_global\n",
    "    N = Y.shape[0]\n",
    "    Z = Z.reshape(N,D)\n",
    "    Kz = np.array([[k(Z[i,:],Z[j,:]) for i in range(N)] for j in range(N)]) + np.eye(N) * sigma2\n",
    "    nll = D/2 * np.log(np.linalg.norm(Kz)) + 0.5 * np.trace(np.linalg.inv(Kz) @ Y @ Y.T) - D * N /2 * np.log(2*np.pi)\n",
    "    nll = nll / N\n",
    "    nll_global = nll\n",
    "    # print current error\n",
    "    return nll\n",
    "\n",
    "def dldZij(Z, Y, sigma2, D, k, labels, t1=t1, t2=t2, t3=t3):\n",
    "    N = Y.shape[0]\n",
    "    Z = Z.reshape(N,D)\n",
    "    Kz = np.array([[k(Z[i,:],Z[j,:]) for i in range(N)] for j in range(N)]) + np.eye(N) * sigma2\n",
    "    Kz_inv = np.linalg.inv(Kz)\n",
    "    \n",
    "    dldKz = -Kz_inv @ Y @ Y.T @ Kz_inv + D * Kz_inv\n",
    "    \n",
    "    dldZ = np.zeros(Z.shape)\n",
    "    for i in range(N):\n",
    "        for j in range(D):\n",
    "            dKdZij = np.zeros(Kz.shape)\n",
    "            dKdZij[i,:] = (Z[:,j] - Z[i,j])/t2 * Kz[i,:]\n",
    "            dKdZij[:,i] = (Z[:,j] - Z[i,j])/t2 * Kz[:,i]\n",
    "            dldZ[i,j] = 0\n",
    "            dldZ[i,j] = np.sum(dldKz * dKdZij)\n",
    "    return dldZ.reshape(3*N) / N"
   ]
  },
  {
   "cell_type": "code",
   "execution_count": 165,
   "metadata": {},
   "outputs": [],
   "source": [
    "global counter, Z_record, nll_global\n",
    "counter = 0\n",
    "sigma2 = 0.5\n",
    "Z = np.random.randn(3*N)\n",
    "Z_record = []"
   ]
  },
  {
   "cell_type": "code",
   "execution_count": 166,
   "metadata": {},
   "outputs": [],
   "source": [
    "def reporter(zk):\n",
    "    global Z_record, counter, nll_global\n",
    "    print(\"Iteration {}: Current nll = {:7.6f}.\".format(counter, nll_global))\n",
    "    counter += 1\n",
    "    Z_record.append(zk)"
   ]
  },
  {
   "cell_type": "code",
   "execution_count": null,
   "metadata": {},
   "outputs": [],
   "source": [
    "res = minimize(lGPLVM, \n",
    "               Z, \n",
    "               args=(dataTrain, sigma2, D, k, dataTrainLbls, t1, t2, t3), \n",
    "               method='CG',\n",
    "               jac=dldZij, \n",
    "               tol=1e-4, \n",
    "               options={'maxiter':100, 'disp':True},\n",
    "               callback=reporter)\n",
    "A = res.x"
   ]
  },
  {
   "cell_type": "code",
   "execution_count": 168,
   "metadata": {},
   "outputs": [],
   "source": [
    "Zpred = Z_record[-1].reshape(N,D)"
   ]
  },
  {
   "cell_type": "code",
   "execution_count": 169,
   "metadata": {},
   "outputs": [],
   "source": [
    "ZtrainMark = np.argmax(dataTrainLbls, axis=1)"
   ]
  },
  {
   "cell_type": "code",
   "execution_count": 172,
   "metadata": {},
   "outputs": [
    {
     "data": {
      "image/png": "[encoded data removed]",
      "text/plain": [
       "<Figure size 432x432 with 1 Axes>"
      ]
     },
     "metadata": {
      "needs_background": "light"
     },
     "output_type": "display_data"
    }
   ],
   "source": [
    "fig, ax = plt.subplots(figsize=(6,6))\n",
    "\n",
    "ax.scatter(Zpred[:,0], Zpred[:,1], c=ZtrainMark)\n",
    "plt.show()"
   ]
  },
  {
   "cell_type": "markdown",
   "metadata": {},
   "source": [
    "Sorry this is as far as I can go here..Somehow I am not able to obtain the correct latent space values. "
   ]
  },
  {
   "cell_type": "code",
   "execution_count": null,
   "metadata": {},
   "outputs": [],
   "source": []
  }
 ],
 "metadata": {
  "kernelspec": {
   "display_name": "Python 3",
   "language": "python",
   "name": "python3"
  },
  "language_info": {
   "codemirror_mode": {
    "name": "ipython",
    "version": 3
   },
   "file_extension": ".py",
   "mimetype": "text/x-python",
   "name": "python",
   "nbconvert_exporter": "python",
   "pygments_lexer": "ipython3",
   "version": "3.6.8"
  }
 },
 "nbformat": 4,
 "nbformat_minor": 2
}
